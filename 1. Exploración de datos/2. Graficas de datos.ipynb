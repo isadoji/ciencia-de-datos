{
 "cells": [
  {
   "cell_type": "markdown",
   "metadata": {},
   "source": [
    "# Gráficas de los datos\n",
    "\n",
    "Presentar de manera clara los aspectos mas importantes de los datos"
   ]
  },
  {
   "cell_type": "code",
   "execution_count": null,
   "metadata": {},
   "outputs": [],
   "source": [
    "import pandas as pd\n",
    "import os\n",
    "import matplotlib.pyplot as plt\n",
    "import numpy as np\n",
    "import seaborn as sns"
   ]
  },
  {
   "cell_type": "code",
   "execution_count": null,
   "metadata": {},
   "outputs": [],
   "source": [
    "mainpath = \"../datasets/\" #carpeta global\n",
    "filename = \"titanic-kaggle/train.csv\"\n",
    "#filename = \"customer-churn-model/Customer Churn Model.txt\" #dataset\n",
    "fullpath = os.path.join(mainpath, filename)\n",
    "data = pd.read_csv (fullpath)\n",
    "data.shape"
   ]
  },
  {
   "cell_type": "code",
   "execution_count": null,
   "metadata": {},
   "outputs": [],
   "source": [
    "data.columns.values "
   ]
  },
  {
   "cell_type": "code",
   "execution_count": null,
   "metadata": {},
   "outputs": [],
   "source": [
    "data.head()"
   ]
  },
  {
   "cell_type": "code",
   "execution_count": null,
   "metadata": {},
   "outputs": [],
   "source": [
    "data.isnull().sum()"
   ]
  },
  {
   "cell_type": "markdown",
   "metadata": {},
   "source": []
  },
  {
   "cell_type": "code",
   "execution_count": null,
   "metadata": {},
   "outputs": [],
   "source": [
    "data['Sex'] = data[\"Sex\"].replace([\"female\",\"male\"],[0,1] )\n",
    "data['Embarked'] = data['Embarked'].replace([\"Q\",\"C\",\"S\"],[1,2,3])\n",
    "subset = data.drop(['Cabin','Name','Ticket'], axis=1)\n",
    "#subset = subset.fillna(0)\n",
    "subset = subset.dropna()\n",
    "subset"
   ]
  },
  {
   "cell_type": "code",
   "execution_count": null,
   "metadata": {},
   "outputs": [],
   "source": [
    "subset.describe()"
   ]
  },
  {
   "cell_type": "markdown",
   "metadata": {},
   "source": [
    "## Primera vista"
   ]
  },
  {
   "cell_type": "code",
   "execution_count": null,
   "metadata": {},
   "outputs": [],
   "source": [
    "subset.hist(bins=50, figsize=(20,15))\n",
    "plt.show()"
   ]
  },
  {
   "cell_type": "markdown",
   "metadata": {},
   "source": [
    "## Seaborn\n",
    "\n",
    "https://seaborn.pydata.org/"
   ]
  },
  {
   "cell_type": "markdown",
   "metadata": {},
   "source": [
    "## Regla de Sturges\n",
    "\n",
    "Número de divisiones de un histograma\n",
    "\n",
    "https://es.wikipedia.org/wiki/Regla_de_Sturges"
   ]
  },
  {
   "cell_type": "code",
   "execution_count": null,
   "metadata": {},
   "outputs": [],
   "source": [
    "k = int(np.ceil(1+np.log2(len(subset)))) #regla de sturges con un numero entero\n",
    "k"
   ]
  },
  {
   "cell_type": "code",
   "execution_count": null,
   "metadata": {},
   "outputs": [],
   "source": [
    "sns.histplot(data=subset, x='Age', bins = k)"
   ]
  },
  {
   "cell_type": "code",
   "execution_count": null,
   "metadata": {},
   "outputs": [],
   "source": [
    "sns.scatterplot(x=\"Age\",\n",
    "                    y=\"Sex\",\n",
    "                    data=subset)"
   ]
  },
  {
   "cell_type": "code",
   "execution_count": null,
   "metadata": {},
   "outputs": [],
   "source": [
    "sns.pairplot(subset, hue='Survived', height=2.25)# hue separar por alguna categoría"
   ]
  },
  {
   "cell_type": "code",
   "execution_count": null,
   "metadata": {},
   "outputs": [],
   "source": [
    "sns.displot(subset, x=\"Age\", hue=\"Survived\", kind=\"kde\") # Kernel density estimation (KDE) "
   ]
  },
  {
   "cell_type": "markdown",
   "metadata": {},
   "source": [
    "## Boxplot"
   ]
  },
  {
   "cell_type": "code",
   "execution_count": null,
   "metadata": {},
   "outputs": [],
   "source": [
    "sns.boxplot(x=subset[\"Age\"])"
   ]
  },
  {
   "cell_type": "markdown",
   "metadata": {},
   "source": [
    "## Cuantiles\n",
    "![DIV](fig/boxplot.png)"
   ]
  },
  {
   "cell_type": "code",
   "execution_count": null,
   "metadata": {},
   "outputs": [],
   "source": [
    "percentages = [0.05, 0.25, 0.5, 0.75, 0.95]\n",
    "df = pd.DataFrame(subset['Age'].quantile(percentages))\n",
    "df.index = [f'{p * 100}%' for p in percentages]\n",
    "print(df.transpose())"
   ]
  },
  {
   "cell_type": "code",
   "execution_count": null,
   "metadata": {},
   "outputs": [],
   "source": [
    "subset.describe()"
   ]
  },
  {
   "cell_type": "markdown",
   "metadata": {},
   "source": [
    "## Rango intercuartilar (IQR)"
   ]
  },
  {
   "cell_type": "code",
   "execution_count": null,
   "metadata": {},
   "outputs": [],
   "source": [
    "# resta entre el primer y tercer cuartil es el IQR = rango intercuatilico (Q3-Q1=IQR)\n",
    "IQR=subset[\"Age\"].quantile(0.75)-subset[\"Age\"].quantile(0.25)\n",
    "print(\"El rango intercuartilar (IQR) es:\", IQR)"
   ]
  },
  {
   "cell_type": "markdown",
   "metadata": {},
   "source": [
    "## Barras de error"
   ]
  },
  {
   "cell_type": "code",
   "execution_count": null,
   "metadata": {},
   "outputs": [],
   "source": [
    "low_bound = subset[\"Age\"].quantile(0.25) - (1.5*IQR) #inferior\n",
    "upper_bound = subset[\"Age\"].quantile(0.75) + 1.5*IQR #superior\n",
    "print(\"El límite superior es:\", upper_bound)\n",
    "print(\"El límite inferior es:\", low_bound)"
   ]
  },
  {
   "cell_type": "code",
   "execution_count": null,
   "metadata": {},
   "outputs": [],
   "source": [
    "(subset['Age']).plot.box(vert=False,figsize=(5, 5))\n",
    "plt.text(1,1.4,'La caja son los datos entre 25, 50 y 75 %')\n",
    "plt.text(1,1.3,'Los valores atípicos son los círculos')\n",
    "plt.text(0.2,0.85,\"inferior\",color='r')\n",
    "plt.text(0.2,0.9,low_bound,color='r')\n",
    "plt.text(60,0.85,\"superior\",color='r')\n",
    "plt.text(60,0.9,upper_bound,color='r')\n",
    "plt.text(15,1.15,\"Q1\",color='b')\n",
    "plt.text(15,1.1,subset[\"Age\"].quantile(0.25),color='b')\n",
    "plt.text(25,1.15,\"IQR\",color='g')\n",
    "plt.text(25,1.1,subset[\"Age\"].quantile(0.50),color='g')\n",
    "plt.text(35,1.15,\"Q3\",color='b')\n",
    "plt.text(35,1.1,subset[\"Age\"].quantile(0.75),color='b')"
   ]
  },
  {
   "cell_type": "code",
   "execution_count": null,
   "metadata": {},
   "outputs": [],
   "source": [
    "from numpy import std\n",
    "\n",
    "\n",
    "sns.set(style=\"darkgrid\")\n",
    "df = subset\n",
    " \n",
    "ax = sns.boxplot(x=\"Survived\", y=\"Age\", data = df)\n",
    "\n",
    "# Calculate number of obs per group & median to position labels\n",
    "medians = df.groupby(['Survived'])['Age'].median().values\n",
    "nobs = df['Survived'].value_counts().values\n",
    "nobs = [str(x) for x in nobs.tolist()]\n",
    "nobs = [\"n: \" + i for i in nobs]\n",
    "\n",
    "# Add it to the plot\n",
    "pos = range(len(nobs))\n",
    "for tick,label in zip(pos,ax.get_xticklabels()):#El i-ésimo elemento en cada tupla \n",
    "    ax.text(pos[tick],\n",
    "            medians[tick] + 0.03,\n",
    "            nobs[tick],\n",
    "            horizontalalignment='center',\n",
    "            size='x-small',\n",
    "            color='w',\n",
    "            weight='semibold'\n",
    "            )\n",
    "plt.show()"
   ]
  },
  {
   "cell_type": "markdown",
   "metadata": {},
   "source": [
    "# Matriz de correlación"
   ]
  },
  {
   "cell_type": "code",
   "execution_count": null,
   "metadata": {},
   "outputs": [],
   "source": [
    "def titanic_corr(data): #matriz de correlación\n",
    "    correlation = data.corr()\n",
    "    sns.heatmap(correlation, annot=True, cbar=True, cmap=\"RdYlGn\")\n",
    "\n",
    "titanic_corr(subset)"
   ]
  }
 ],
 "metadata": {
  "kernelspec": {
   "display_name": "Python 3.10.6 ('py310')",
   "language": "python",
   "name": "python3"
  },
  "language_info": {
   "codemirror_mode": {
    "name": "ipython",
    "version": 3
   },
   "file_extension": ".py",
   "mimetype": "text/x-python",
   "name": "python",
   "nbconvert_exporter": "python",
   "pygments_lexer": "ipython3",
   "version": "3.10.6"
  },
  "orig_nbformat": 4,
  "vscode": {
   "interpreter": {
    "hash": "819112c24f0d6b36d35f6c5653e120a0c93a25f82bf2809eaf9b65613f02e80c"
   }
  }
 },
 "nbformat": 4,
 "nbformat_minor": 2
}
