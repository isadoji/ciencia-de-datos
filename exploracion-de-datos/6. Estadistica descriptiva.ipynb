{
 "cells": [
  {
   "cell_type": "markdown",
   "metadata": {},
   "source": [
    "# Estadística descriptiva\n",
    "\n",
    "Medidas estadísticas utilizadas para describir las propiedades de los datos:\n",
    "\n",
    "1. Media aritmética\n",
    "2. Desviación respecto a la media aritmética\n",
    "3. Varianza\n",
    "4. Desviación estándar\n",
    "5. Moda\n",
    "6. Mediana\n",
    "7. Correlación\n",
    "8. Covarianza\n",
    "9. Valor atípico"
   ]
  },
  {
   "cell_type": "code",
   "execution_count": null,
   "metadata": {},
   "outputs": [],
   "source": [
    "import pandas as pd\n",
    "import os\n",
    "import matplotlib.pyplot as plt\n",
    "import numpy as np\n",
    "\n",
    "mainpath = \"../datasets/\"\n",
    "filename = \"customer-churn-model/Customer Churn Model.txt\"\n",
    "fullpath = os.path.join(mainpath, filename)\n",
    "data = pd.read_csv (fullpath)\n",
    "data"
   ]
  },
  {
   "cell_type": "markdown",
   "metadata": {},
   "source": [
    "## 1. Media aritmética:\n",
    "\n",
    "Es el valor obtenido al sumar todos los datos y dividir el resultado entre el número total elementos.\n",
    "\n",
    "\\begin{align}\n",
    "\\bar{x}=\\frac{\\sum_{i=1}^{n}x_i}{n}\n",
    "\\end{align}\n"
   ]
  },
  {
   "cell_type": "code",
   "execution_count": null,
   "metadata": {},
   "outputs": [],
   "source": [
    "datos = data[\"Day Calls\"]\n"
   ]
  },
  {
   "cell_type": "code",
   "execution_count": null,
   "metadata": {},
   "outputs": [],
   "source": [
    "'''Media aritmetica'''\n",
    "def media(datos):\n",
    "    elementos = len(datos)\n",
    "    sum_numerador = sum([datos[i] for i in range(elementos)])\n",
    "    return round(sum_numerador/elementos,2)\n",
    "    \n",
    "media_aritmetica = media(datos)\n",
    "print(media_aritmetica)"
   ]
  },
  {
   "cell_type": "code",
   "execution_count": null,
   "metadata": {},
   "outputs": [],
   "source": [
    "plt.hist(datos,bins=20) # bins=10 default\n",
    "plt.xlabel(\"Número de llamadas al día\")\n",
    "plt.ylabel(\"Frecuencia\")\n",
    "plt.title(\"Histograma del número de llamadas al día\")\n",
    "plt.axvline(media_aritmetica, color='k', linestyle='dashed', linewidth=1)\n",
    "min_ylim, max_ylim = plt.ylim()\n",
    "plt.text(media_aritmetica*1.1, max_ylim*0.9,media_aritmetica)"
   ]
  },
  {
   "cell_type": "markdown",
   "metadata": {},
   "source": [
    "### 1.1. Media truncada\n",
    "\n",
    " El cálculo de la media después de descartar las partes extremas de la distribución normalmente descartando una cantidad igual de ambos. \n",
    "\n",
    "\\begin{align}\n",
    "\\bar{x}_T=\\frac{\\sum_{i=p+1}^{n-p}x_i}{n-2p}\n",
    "\\end{align}\n",
    "\n",
    "con $p$ los valores extremos.\n",
    "\n",
    "Para la mayoría de las aplicaciones estadísticas, se descartan del 5 al 25 por ciento de los extremo (cuartiles)"
   ]
  },
  {
   "cell_type": "code",
   "execution_count": null,
   "metadata": {},
   "outputs": [],
   "source": [
    "\n",
    "\n",
    "data2 = data[(data[\"Day Calls\"]>data[\"Day Calls\"].min()) & (data[\"Day Calls\"]<data[\"Day Calls\"].max())]\n",
    "suma2 = data2[\"Day Calls\"].sum()\n",
    "elementos2 = data2[\"Day Calls\"].shape\n",
    "media2 = suma2 / elementos2\n",
    "\n",
    "plt.hist(data2[\"Day Calls\"],bins=20) # bins=10 default\n",
    "plt.xlabel(\"Número de llamadas al día\")\n",
    "plt.ylabel(\"Frecuencia\")\n",
    "plt.title(\"Histograma del número de llamadas al día\")\n",
    "plt.axvline(media2, color='k', linestyle='dashed', linewidth=1)\n",
    "min_ylim, max_ylim = plt.ylim()\n",
    "plt.text(media2*1.1, max_ylim*0.9,media2)"
   ]
  },
  {
   "cell_type": "markdown",
   "metadata": {},
   "source": [
    "### 1.2 Media ponderada\n",
    "\n",
    "Media que otorga diferentes pesos a los distintos valores sobre los que se calcula\n",
    "\n",
    "\\begin{align}\n",
    "\\bar{x}_w=\\frac{\\sum_{i=1}^{n}w_i x_i}{\\sum_{i=1}^{n}w_i}\n",
    "\\end{align}"
   ]
  },
  {
   "cell_type": "code",
   "execution_count": null,
   "metadata": {},
   "outputs": [],
   "source": [
    "valores = data[\"Day Calls\"]\n",
    "pesos = data[\"CustServ Calls\"]\n",
    "def media_ponderada(valores, pesos):\n",
    "  \n",
    "    sum_numerador = sum([valores[i]*pesos[i] for i in range(len(valores))])\n",
    "    sum_denominador = sum(pesos)\n",
    "    \n",
    "    return round(sum_numerador/sum_denominador,2)\n",
    "\n",
    "media_aritmetica_ponderada= media_ponderada(valores, pesos)\n",
    "print(media_aritmetica_ponderada)"
   ]
  },
  {
   "cell_type": "code",
   "execution_count": null,
   "metadata": {},
   "outputs": [],
   "source": [
    "plt.hist(datos,bins=20) # bins=10 default\n",
    "plt.xlabel(\"Número de llamadas al día\")\n",
    "plt.ylabel(\"Frecuencia\")\n",
    "plt.title(\"Histograma del número de llamadas al día\")\n",
    "plt.axvline(media_aritmetica_ponderada, color='k', linestyle='dashed', linewidth=1)\n",
    "min_ylim, max_ylim = plt.ylim()\n",
    "plt.text(media_aritmetica_ponderada*1.1, max_ylim*0.9,media_aritmetica_ponderada)"
   ]
  },
  {
   "cell_type": "code",
   "execution_count": null,
   "metadata": {},
   "outputs": [],
   "source": []
  },
  {
   "cell_type": "markdown",
   "metadata": {},
   "source": [
    "## Desviación respecto a la media aritmética\n",
    "\n",
    "Es la diferencia en valor absoluto entre cada valor de la variable estadística y la media aritmética."
   ]
  },
  {
   "cell_type": "code",
   "execution_count": null,
   "metadata": {},
   "outputs": [],
   "source": [
    "'''Media aritmetica'''\n",
    "media_aritmetica = media(datos)\n",
    "for i in range(elementos):\n",
    "    datos3 = round(abs(datos[i] - media_aritmetica),2)\n",
    "    print(datos3)"
   ]
  },
  {
   "cell_type": "code",
   "execution_count": null,
   "metadata": {},
   "outputs": [],
   "source": [
    "data.shape\n",
    "data.describe()"
   ]
  },
  {
   "cell_type": "code",
   "execution_count": null,
   "metadata": {},
   "outputs": [],
   "source": []
  }
 ],
 "metadata": {
  "kernelspec": {
   "display_name": "Python 3.10.6 ('py310')",
   "language": "python",
   "name": "python3"
  },
  "language_info": {
   "codemirror_mode": {
    "name": "ipython",
    "version": 3
   },
   "file_extension": ".py",
   "mimetype": "text/x-python",
   "name": "python",
   "nbconvert_exporter": "python",
   "pygments_lexer": "ipython3",
   "version": "3.10.6"
  },
  "orig_nbformat": 4,
  "vscode": {
   "interpreter": {
    "hash": "819112c24f0d6b36d35f6c5653e120a0c93a25f82bf2809eaf9b65613f02e80c"
   }
  }
 },
 "nbformat": 4,
 "nbformat_minor": 2
}
