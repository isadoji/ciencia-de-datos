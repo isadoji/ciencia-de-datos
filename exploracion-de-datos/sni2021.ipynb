{
 "cells": [
  {
   "cell_type": "code",
   "execution_count": null,
   "metadata": {},
   "outputs": [],
   "source": [
    "import pandas as pd\n",
    "import matplotlib.pyplot as plt\n",
    "import numpy as np\n",
    "import os\n",
    "import seaborn as sns"
   ]
  },
  {
   "cell_type": "code",
   "execution_count": null,
   "metadata": {},
   "outputs": [],
   "source": [
    "#https://conacyt.mx/sistema-nacional-de-investigadores/archivo-historico/\n",
    "mainpath = \"../datasets/\" #carpeta global\n",
    "filename = \"SNI2021.xlsx\" #dataset\n",
    "fullpath = os.path.join(mainpath, filename)\n",
    "data = pd.read_excel(fullpath)\n",
    "data"
   ]
  },
  {
   "cell_type": "code",
   "execution_count": null,
   "metadata": {},
   "outputs": [],
   "source": [
    "# Cabeceras de las columnas\n",
    "data.columns.values\n",
    "data.shape"
   ]
  },
  {
   "cell_type": "code",
   "execution_count": null,
   "metadata": {},
   "outputs": [],
   "source": [
    "male = data[(data[\"NOBILIS\"]==\"DR.\")]\n",
    "maleC = data[(data[\"NOBILIS\"]==\"DR.\") & (data[\"CATEGORÍA\"]==\"C\") ]\n",
    "male1 = data[(data[\"NOBILIS\"]==\"DR.\") & (data[\"CATEGORÍA\"]==1) ]\n",
    "male2 = data[(data[\"NOBILIS\"]==\"DR.\") & (data[\"CATEGORÍA\"]==2) ]\n",
    "male3 = data[(data[\"NOBILIS\"]==\"DR.\") & (data[\"CATEGORÍA\"]==3) ]\n",
    "female = data[(data[\"NOBILIS\"]==\"DRA.\")]\n",
    "femaleC = data[(data[\"NOBILIS\"]==\"DRA.\") & (data[\"CATEGORÍA\"]==\"C\") ]\n",
    "female1 = data[(data[\"NOBILIS\"]==\"DRA.\") & (data[\"CATEGORÍA\"]==1) ]\n",
    "female2 = data[(data[\"NOBILIS\"]==\"DRA.\") & (data[\"CATEGORÍA\"]==2) ]\n",
    "female3 = data[(data[\"NOBILIS\"]==\"DRA.\") & (data[\"CATEGORÍA\"]==3) ]\n",
    "print(\"Hombre=\",male.shape[0],\":C =\",maleC.shape[0],\",1 =\",male1.shape[0],\",2 =\",male2.shape[0],\",3 =\",male3.shape[0])\n",
    "print(\"Mujer =\",female.shape[0],\":C =\",femaleC.shape[0],\",1 =\",female1.shape[0],\",2 =\",female2.shape[0],\",3 =\",female3.shape[0])\n"
   ]
  }
 ],
 "metadata": {
  "kernelspec": {
   "display_name": "Python 3.10.6 ('py310')",
   "language": "python",
   "name": "python3"
  },
  "language_info": {
   "codemirror_mode": {
    "name": "ipython",
    "version": 3
   },
   "file_extension": ".py",
   "mimetype": "text/x-python",
   "name": "python",
   "nbconvert_exporter": "python",
   "pygments_lexer": "ipython3",
   "version": "3.10.6"
  },
  "orig_nbformat": 4,
  "vscode": {
   "interpreter": {
    "hash": "819112c24f0d6b36d35f6c5653e120a0c93a25f82bf2809eaf9b65613f02e80c"
   }
  }
 },
 "nbformat": 4,
 "nbformat_minor": 2
}
