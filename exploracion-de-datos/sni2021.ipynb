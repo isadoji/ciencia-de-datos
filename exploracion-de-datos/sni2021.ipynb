{
 "cells": [
  {
   "cell_type": "markdown",
   "metadata": {},
   "source": [
    "# SNI: \n",
    "# https://conacyt.mx/sistema-nacional-de-investigadores/archivo-historico/\n",
    "CVU', 'NOBILIS', 'NOMBRE DEL INVESTIGADOR(A)', 'CATEGORÍA',\n",
    "       'ÁREA DEL CONOCIMIENTO', 'DISCIPLINA', 'SUBDISCIPLINA',\n",
    "       'ESPECIALIDAD', 'INSTITUCIÓN DE ADSCRIPCIÓN', 'DEPENDENCIA ',\n",
    "       'ENTIDAD FEDERATIVA', 'PAÍS', 'ESTÍMULO ECONÓMICO'], dtype=object\n",
    "\n",
    "| Variable\t| Definition |\tKey |\n",
    "| --- | --- | --- |\n",
    "| NOBILIS | Sex|\t0 = male, 1 = female |\n",
    "| CATEGORÍA | C = 0, 1 , 2 , 3 | \n",
    "| ÁREA DEL CONOCIMIENTO | \"I.- FÍSICO-MATEMÁTICAS Y CIENCIAS DE LA TIERRA\"=1 \n",
    "|                       | \"II.- BIOLOGÍA Y QUÍMICA\" = 2 |\n",
    "|                       | \"III.- MEDICINA Y CIENCIAS DE LA SALUD\" = 3|\n",
    "|                       | \"IV.- HUMANIDADES Y CIENCIAS DE LA CONDUCTA\" = 4|\n",
    "|                       | \"V.- CIENCIAS SOCIALES\" = 5 |\n",
    "|                       | \"VI.- BIOTECNOLOGÍA Y CIENCIAS AGROPECUARIAS\" = 6 |\n",
    "|                       | \"VII.- INGENIERÍAS\" = 7 |\n"
   ]
  },
  {
   "cell_type": "code",
   "execution_count": null,
   "metadata": {},
   "outputs": [],
   "source": [
    "import pandas as pd\n",
    "import matplotlib.pyplot as plt\n",
    "import numpy as np\n",
    "import os\n",
    "import seaborn as sns"
   ]
  },
  {
   "cell_type": "code",
   "execution_count": null,
   "metadata": {},
   "outputs": [],
   "source": [
    "#https://conacyt.mx/sistema-nacional-de-investigadores/archivo-historico/\n",
    "mainpath = \"../datasets/\" #carpeta global\n",
    "filename = \"SNI2021.xlsx\" #dataset\n",
    "fullpath = os.path.join(mainpath, filename)\n",
    "data = pd.read_excel(fullpath)"
   ]
  },
  {
   "cell_type": "code",
   "execution_count": null,
   "metadata": {},
   "outputs": [],
   "source": [
    "data.columns.values\n",
    "#data.shape"
   ]
  },
  {
   "cell_type": "code",
   "execution_count": null,
   "metadata": {},
   "outputs": [],
   "source": [
    "data[\"ÁREA DEL CONOCIMIENTO\"].values"
   ]
  },
  {
   "cell_type": "code",
   "execution_count": null,
   "metadata": {},
   "outputs": [],
   "source": [
    "data.CATEGORÍA = data.CATEGORÍA.replace({\"C\": 0})\n",
    "data.NOBILIS = data.NOBILIS.replace({\"DR.\":0, \"DRA.\" : 1})\n",
    "data[\"ÁREA DEL CONOCIMIENTO\"] = data[\"ÁREA DEL CONOCIMIENTO\"].replace({\"I.- FÍSICO-MATEMÁTICAS Y CIENCIAS DE LA TIERRA\":1, \n",
    "\"II.- BIOLOGÍA Y QUÍMICA\":2,\"III.- MEDICINA Y CIENCIAS DE LA SALUD\":3, \"IV.- HUMANIDADES Y CIENCIAS DE LA CONDUCTA\":4,\"V.- CIENCIAS SOCIALES\":5,\"VI.- BIOTECNOLOGÍA Y CIENCIAS AGROPECUARIAS\":6,\"VII.- INGENIERÍAS\":7})\n",
    "data"
   ]
  },
  {
   "cell_type": "code",
   "execution_count": null,
   "metadata": {},
   "outputs": [],
   "source": [
    "data2 = data[(data[\"NOBILIS\"]==0) | (data[\"NOBILIS\"]==1)]\n",
    "male = data2[(data2[\"NOBILIS\"]==0)]\n",
    "maleC = data2[(data2[\"NOBILIS\"]==0) & (data2[\"CATEGORÍA\"]==0) ]\n",
    "male1 = data2[(data2[\"NOBILIS\"]==0) & (data2[\"CATEGORÍA\"]==1) ]\n",
    "male2 = data2[(data2[\"NOBILIS\"]==0) & (data2[\"CATEGORÍA\"]==2) ]\n",
    "male3 = data2[(data2[\"NOBILIS\"]==0) & (data2[\"CATEGORÍA\"]==3) ]\n",
    "female = data2[(data2[\"NOBILIS\"]==1)]\n",
    "femaleC = data2[(data2[\"NOBILIS\"]==1) & (data2[\"CATEGORÍA\"]==0) ]\n",
    "female1 = data2[(data2[\"NOBILIS\"]==1) & (data2[\"CATEGORÍA\"]==1) ]\n",
    "female2 = data2[(data2[\"NOBILIS\"]==1) & (data2[\"CATEGORÍA\"]==2) ]\n",
    "female3 = data2[(data2[\"NOBILIS\"]==1) & (data2[\"CATEGORÍA\"]==3) ]\n",
    "print(\"Hombre=\",male.shape[0],\":C =\",maleC.shape[0],\",1 =\",male1.shape[0],\",2 =\",male2.shape[0],\",3 =\",male3.shape[0])\n",
    "print(\"Mujer =\",female.shape[0],\":C =\",femaleC.shape[0],\",1 =\",female1.shape[0],\",2 =\",female2.shape[0],\",3 =\",female3.shape[0])\n"
   ]
  },
  {
   "cell_type": "code",
   "execution_count": null,
   "metadata": {},
   "outputs": [],
   "source": [
    "plt.figure(figsize=(15,5))\n",
    "plt.subplot(1,2,1)\n",
    "plt.hist(male[\"CATEGORÍA\"],bins=20,label='hombres')\n",
    "plt.hist(female[\"CATEGORÍA\"],bins=20,label='mujeres')\n",
    "plt.text(0.0,6000,len(maleC[\"CATEGORÍA\"]))\n",
    "plt.text(0.0,5000,len(femaleC[\"CATEGORÍA\"]))\n",
    "plt.text(0.0,6000,len(maleC[\"CATEGORÍA\"]))\n",
    "plt.text(0.0,5000,len(femaleC[\"CATEGORÍA\"]))\n",
    "plt.text(1.0,6000,len(male1[\"CATEGORÍA\"]))\n",
    "plt.text(1.0,5000,len(female1[\"CATEGORÍA\"]))\n",
    "plt.text(2.0,4000,len(male2[\"CATEGORÍA\"]))\n",
    "plt.text(2.0,3000,len(female2[\"CATEGORÍA\"]))\n",
    "plt.text(3.0,2000,len(male3[\"CATEGORÍA\"]))\n",
    "plt.text(3.0,1000,len(female3[\"CATEGORÍA\"]))\n",
    "plt.title(\"Nivel\")\n",
    "plt.subplot(1,2,2)\n",
    "plt.hist(male[\"ÁREA DEL CONOCIMIENTO\"],bins=20,label='hombres')\n",
    "plt.hist(female[\"ÁREA DEL CONOCIMIENTO\"],bins=20,label='mujeres')"
   ]
  }
 ],
 "metadata": {
  "kernelspec": {
   "display_name": "Python 3.10.6 ('py310')",
   "language": "python",
   "name": "python3"
  },
  "language_info": {
   "codemirror_mode": {
    "name": "ipython",
    "version": 3
   },
   "file_extension": ".py",
   "mimetype": "text/x-python",
   "name": "python",
   "nbconvert_exporter": "python",
   "pygments_lexer": "ipython3",
   "version": "3.10.6"
  },
  "orig_nbformat": 4,
  "vscode": {
   "interpreter": {
    "hash": "819112c24f0d6b36d35f6c5653e120a0c93a25f82bf2809eaf9b65613f02e80c"
   }
  }
 },
 "nbformat": 4,
 "nbformat_minor": 2
}
