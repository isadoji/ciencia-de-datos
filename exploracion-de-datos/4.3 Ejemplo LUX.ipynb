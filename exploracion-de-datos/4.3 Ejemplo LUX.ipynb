{
 "cells": [
  {
   "attachments": {},
   "cell_type": "markdown",
   "metadata": {},
   "source": [
    "\n",
    "# Lux\n",
    "## A Python API for Intelligent Visual Discovery\n",
    "\n",
    "https://github.com/lux-org"
   ]
  },
  {
   "cell_type": "code",
   "execution_count": null,
   "metadata": {},
   "outputs": [],
   "source": [
    "### Bibliotecas de python\n",
    "import pandas as pd\n",
    "import os\n",
    "import lux"
   ]
  },
  {
   "cell_type": "code",
   "execution_count": null,
   "metadata": {},
   "outputs": [],
   "source": [
    "###Leer datos (localmente)\n",
    "mainpath = \"../datasets/\"\n",
    "filename = \"titanic-kaggle/train.csv\"\n",
    "fullpath = os.path.join(mainpath, filename)\n",
    "data = pd.read_csv (fullpath)\n",
    "# Dimension de los datos(filas,columnas,)"
   ]
  },
  {
   "cell_type": "code",
   "execution_count": null,
   "metadata": {},
   "outputs": [],
   "source": [
    "subset_num = data[[\"PassengerId\",\"Age\",\"Pclass\",\"Fare\",\"Survived\"]] # solo variables  numéricas\n",
    "dummy_sex = pd.get_dummies(data[\"Sex\"],prefix=\"sex\") # Crea dos columnes dummy\n",
    "data2 = pd.concat([subset_num, dummy_sex], axis = 1) #agregar por columna\n",
    "data3 = data2.dropna(axis=0,how=\"any\") #borra todas las filas que tengan al menos un NaN\n",
    "data3"
   ]
  },
  {
   "cell_type": "code",
   "execution_count": null,
   "metadata": {},
   "outputs": [],
   "source": [
    "data3.intent = [\"Age\"]\n",
    "new_var = data3\n",
    "new_var"
   ]
  },
  {
   "cell_type": "code",
   "execution_count": null,
   "metadata": {},
   "outputs": [],
   "source": [
    "possible_attributes = \"Survived|sex_male\"\n",
    "data3.intent = [possible_attributes,\"Age\"]\n",
    "data3"
   ]
  },
  {
   "cell_type": "code",
   "execution_count": null,
   "metadata": {},
   "outputs": [],
   "source": [
    "data3.intent = ['sex_male','sex_female=?']\n",
    "data3"
   ]
  }
 ],
 "metadata": {
  "kernelspec": {
   "display_name": "Python 3.10.6 ('py310')",
   "language": "python",
   "name": "python3"
  },
  "language_info": {
   "codemirror_mode": {
    "name": "ipython",
    "version": 3
   },
   "file_extension": ".py",
   "mimetype": "text/x-python",
   "name": "python",
   "nbconvert_exporter": "python",
   "pygments_lexer": "ipython3",
   "version": "3.10.6"
  },
  "orig_nbformat": 4,
  "vscode": {
   "interpreter": {
    "hash": "819112c24f0d6b36d35f6c5653e120a0c93a25f82bf2809eaf9b65613f02e80c"
   }
  }
 },
 "nbformat": 4,
 "nbformat_minor": 2
}
