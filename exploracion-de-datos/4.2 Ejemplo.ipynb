{
 "cells": [
  {
   "cell_type": "markdown",
   "metadata": {},
   "source": [
    "# Titanic: \n",
    "## Utilizar ML para crear un modelo que prediga que pasajeros sobreviven al hundimiento del Titanic a partir de cierta información de los pasajeros\n",
    "\n",
    "https://www.kaggle.com/competitions/titanic/\n",
    "\n",
    "| Variable\t| Definition |\tKey |\n",
    "| --- | --- | --- |\n",
    "| Survived | Survival|\t0 = No, 1 = Yes |\n",
    "| Pclass | Ticket class |\t1 = 1st, 2 = 2nd, 3 = 3rd |\n",
    "| Name | Passenger name |\n",
    "| Sex\t| Sex |\tmale, female |\n",
    "| Age\t| Age in years\t|\n",
    "| SibSp\t| # of siblings / spouses aboard the Titanic |\t\n",
    "| Parch\t| # of parents / children aboard the Titanic |\t\n",
    "| Ticket|\tTicket number\t|\n",
    "| Fare\t| Passenger fare |\t\n",
    "| Cabin\t| Cabin number |\t\n",
    "| Embarked |\tPort of Embarkation\t| C = Cherbourg, Q = Queenstown, S = Southampton |"
   ]
  },
  {
   "cell_type": "code",
   "execution_count": null,
   "metadata": {},
   "outputs": [],
   "source": [
    "### Bibliotecas de python\n",
    "import pandas as pd\n",
    "import os\n",
    "import matplotlib.pyplot as plt\n",
    "import numpy as np"
   ]
  },
  {
   "cell_type": "code",
   "execution_count": null,
   "metadata": {},
   "outputs": [],
   "source": [
    "\n",
    "###Leer datos (localmente)\n",
    "mainpath = \"../datasets/\"\n",
    "filename = \"titanic-kaggle/train.csv\"\n",
    "fullpath = os.path.join(mainpath, filename)\n",
    "data = pd.read_csv (fullpath)\n",
    "# Dimension de los datos(filas,columnas,)\n",
    "data.shape "
   ]
  },
  {
   "cell_type": "code",
   "execution_count": null,
   "metadata": {},
   "outputs": [],
   "source": [
    "# Cabeceras de las columnas\n",
    "data.columns.values "
   ]
  },
  {
   "cell_type": "code",
   "execution_count": null,
   "metadata": {},
   "outputs": [],
   "source": [
    "# Vista general de los datos\n",
    "data.head()"
   ]
  },
  {
   "cell_type": "code",
   "execution_count": null,
   "metadata": {},
   "outputs": [],
   "source": [
    "# Estadistica basica de variables númericas \n",
    "data.describe() "
   ]
  },
  {
   "cell_type": "code",
   "execution_count": null,
   "metadata": {},
   "outputs": [],
   "source": [
    "datos1 = data[\"Survived\"]\n",
    "live = data[(data[\"Survived\"]==1)]\n",
    "dead = data[(data[\"Survived\"]==0)]\n",
    "print(\"De los\",data.shape[0], \"pasajeros del titanic\",\"sobrevivieron\",live.shape[0],\"y murieron\",dead.shape[0])\n",
    "plt.hist(datos1,bins=20) # bins=10 default\n",
    "plt.title(\"Sobrevivieron?\")\n",
    "plt.xlabel(\"si =1, no = 0\")\n",
    "plt.ylabel(\"Frecuencia\")"
   ]
  },
  {
   "cell_type": "code",
   "execution_count": null,
   "metadata": {},
   "outputs": [],
   "source": [
    "livem = data[(data[\"Survived\"]==1) & (data[\"Sex\"] == \"male\")]\n",
    "livef = data[(data[\"Survived\"]==1) & (data[\"Sex\"] == \"female\")]\n",
    "deadm = data[(data[\"Survived\"]==0) & (data[\"Sex\"] == \"male\")]\n",
    "deadf = data[(data[\"Survived\"]==0) & (data[\"Sex\"] == \"female\")]\n",
    "print(\"De los\",live.shape[0], \"pasajeros que sobrevivieron\",livem.shape[0],\"eran hombres y\",livef.shape[0],\"eran mujeres\")\n",
    "print(\"De los\",dead.shape[0], \"pasajeros que murieron\",deadm.shape[0],\"eran hombres y\",deadf.shape[0],\"eran mujeres\")"
   ]
  },
  {
   "cell_type": "code",
   "execution_count": null,
   "metadata": {},
   "outputs": [],
   "source": [
    "plt.subplot(1,2,1)\n",
    "plt.title(\"Sobrevivieron? (Hombres)\")\n",
    "plt.hist(livem[\"Survived\"],bins=20)\n",
    "plt.hist(deadm[\"Survived\"],bins=20)\n",
    "plt.xlabel(\"si =1, no = 0\")\n",
    "plt.text(1,400,livem.shape[0])\n",
    "plt.text(1,300,deadm.shape[0])\n",
    "\n",
    "plt.subplot(1,2,2)\n",
    "plt.title(\"Sobrevivieron? (Mujeres)\")\n",
    "plt.hist(livef[\"Survived\"],bins=20)\n",
    "plt.hist(deadf[\"Survived\"],bins=20)\n",
    "plt.xlabel(\"si =1, no = 0\")\n"
   ]
  },
  {
   "cell_type": "markdown",
   "metadata": {},
   "source": []
  }
 ],
 "metadata": {
  "kernelspec": {
   "display_name": "Python 3.10.6 ('py310')",
   "language": "python",
   "name": "python3"
  },
  "language_info": {
   "codemirror_mode": {
    "name": "ipython",
    "version": 3
   },
   "file_extension": ".py",
   "mimetype": "text/x-python",
   "name": "python",
   "nbconvert_exporter": "python",
   "pygments_lexer": "ipython3",
   "version": "3.10.6"
  },
  "orig_nbformat": 4,
  "vscode": {
   "interpreter": {
    "hash": "819112c24f0d6b36d35f6c5653e120a0c93a25f82bf2809eaf9b65613f02e80c"
   }
  }
 },
 "nbformat": 4,
 "nbformat_minor": 2
}
