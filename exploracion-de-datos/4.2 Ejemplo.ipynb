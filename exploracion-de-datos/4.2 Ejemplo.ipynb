{
 "cells": [
  {
   "cell_type": "markdown",
   "metadata": {},
   "source": [
    "# Titanic: \n",
    "## Utilizar ML para crear un modelo que prediga que pasajeros sobreviven al hundimiento del Titanic a partir de cierta información de los pasajeros\n",
    "\n",
    "https://www.kaggle.com/competitions/titanic/\n",
    "\n",
    "| Variable\t| Definition |\tKey |\n",
    "| --- | --- | --- |\n",
    "| Survived | Survival|\t0 = No, 1 = Yes |\n",
    "| Pclass | Ticket class |\t1 = 1st, 2 = 2nd, 3 = 3rd |\n",
    "| Name | Passenger name |\n",
    "| Sex\t| Sex |\tmale, female |\n",
    "| Age\t| Age in years\t|\n",
    "| SibSp\t| # of siblings / spouses aboard the Titanic |\t\n",
    "| Parch\t| # of parents / children aboard the Titanic |\t\n",
    "| Ticket|\tTicket number\t|\n",
    "| Fare\t| Passenger fare |\t\n",
    "| Cabin\t| Cabin number |\t\n",
    "| Embarked |\tPort of Embarkation\t| C = Cherbourg, Q = Queenstown, S = Southampton |"
   ]
  },
  {
   "cell_type": "code",
   "execution_count": null,
   "metadata": {},
   "outputs": [],
   "source": [
    "### Bibliotecas de python\n",
    "import pandas as pd\n",
    "import os\n",
    "import matplotlib.pyplot as plt\n",
    "import numpy as np\n",
    "#from collections import Counter\n",
    "import re #Regular expression operations\n",
    "import seaborn as sn #statistical data visualization\n"
   ]
  },
  {
   "cell_type": "code",
   "execution_count": null,
   "metadata": {},
   "outputs": [],
   "source": [
    "\n",
    "###Leer datos (localmente)\n",
    "mainpath = \"../datasets/\"\n",
    "filename = \"titanic-kaggle/train.csv\"\n",
    "fullpath = os.path.join(mainpath, filename)\n",
    "data = pd.read_csv (fullpath)\n",
    "# Dimension de los datos(filas,columnas,)\n",
    "data.shape "
   ]
  },
  {
   "cell_type": "code",
   "execution_count": null,
   "metadata": {},
   "outputs": [],
   "source": [
    "# Cabeceras de las columnas\n",
    "data.columns.values "
   ]
  },
  {
   "cell_type": "code",
   "execution_count": null,
   "metadata": {},
   "outputs": [],
   "source": [
    "# Vista general de los datos\n",
    "data.head()"
   ]
  },
  {
   "cell_type": "code",
   "execution_count": null,
   "metadata": {},
   "outputs": [],
   "source": [
    "data.dtypes"
   ]
  },
  {
   "cell_type": "code",
   "execution_count": null,
   "metadata": {},
   "outputs": [],
   "source": [
    "# Valortes nulos\n",
    "#null_columns=data.columns[data.isnull().any()]\n",
    "data.isnull().sum()"
   ]
  },
  {
   "cell_type": "code",
   "execution_count": null,
   "metadata": {},
   "outputs": [],
   "source": [
    "plt.figure(figsize=(15,10))\n",
    "plt.subplot(3,4,1)\n",
    "plt.title(\"Survived\")\n",
    "plt.hist(data.Survived,bins=20)\n",
    "plt.subplot(3,4,2)\n",
    "plt.title(\"Class\")\n",
    "plt.hist(data.Pclass,bins=20)\n",
    "plt.subplot(3,4,3)\n",
    "plt.title(\"Sex\")\n",
    "plt.hist(data.Sex,bins=20)\n",
    "plt.subplot(3,4,4)\n",
    "plt.title(\"Age\")\n",
    "plt.hist(data.Age,bins=20)\n",
    "plt.subplot(3,4,5)\n",
    "plt.title(\"Sibilings\")\n",
    "plt.hist(data.SibSp,bins=20)\n",
    "plt.subplot(3,4,6)\n",
    "plt.title(\"Parents\")\n",
    "plt.hist(data.Parch,bins=20)\n",
    "plt.subplot(3,4,7)\n",
    "plt.title(\"Fare\")\n",
    "plt.hist(data[\"Fare\"],bins=20)\n",
    "plt.subplot(3,4,8)\n",
    "plt.title(\"Embarked\")\n",
    "data.Embarked.value_counts().plot(kind='bar')\n"
   ]
  },
  {
   "cell_type": "code",
   "execution_count": null,
   "metadata": {},
   "outputs": [],
   "source": [
    "data2 = data[\"Cabin\"]\n",
    "data3 = data2.dropna(axis=0,how=\"any\") #borra todas las filas que que tengan al menos un NaN\n",
    "data4 = data3.loc[data3.str.contains(\"A\")] #\n",
    "data4"
   ]
  },
  {
   "cell_type": "code",
   "execution_count": null,
   "metadata": {},
   "outputs": [],
   "source": [
    "def get_title(name):\n",
    "    title_search = re.search(' ([A-Za-z]+)\\.', name)\n",
    "    if title_search:\n",
    "        return title_search.group(1)\n",
    "    return \"\"\n",
    "\n",
    "titles = data[\"Name\"].apply(get_title)\n",
    "print(pd.value_counts(titles))"
   ]
  },
  {
   "cell_type": "code",
   "execution_count": null,
   "metadata": {},
   "outputs": [],
   "source": [
    "# Estadistica basica de variables númericas \n",
    "data.describe() "
   ]
  },
  {
   "cell_type": "code",
   "execution_count": null,
   "metadata": {},
   "outputs": [],
   "source": [
    "#Crear un subset\n",
    "subset = data[[\"PassengerId\",\"Sex\",\"Age\",\"Pclass\",\"Fare\",\"Embarked\",\"Survived\"]]\n",
    "subset_clean = subset.dropna(axis=0,how=\"any\") #borra todas las filas que que tengan al menos un NaN\n",
    "subset_clean"
   ]
  },
  {
   "cell_type": "code",
   "execution_count": null,
   "metadata": {},
   "outputs": [],
   "source": [
    "subset_clean.describe() # solo valores numéricos"
   ]
  },
  {
   "cell_type": "code",
   "execution_count": null,
   "metadata": {},
   "outputs": [],
   "source": [
    "subset_clean.Embarked.value_counts()"
   ]
  },
  {
   "cell_type": "code",
   "execution_count": null,
   "metadata": {},
   "outputs": [],
   "source": [
    "subset_clean.Sex.value_counts()"
   ]
  },
  {
   "cell_type": "code",
   "execution_count": null,
   "metadata": {},
   "outputs": [],
   "source": [
    "#subset_clean[\"Age\"].mean() #1. Media aritmética\n",
    "#subset_clean[\"Age\"].mode() #2. Moda\n",
    "#subset_clean[\"Age\"].median() # 3. Mediana\n",
    "#subset_clean[\"Age\"].var() # 5. Varianza\n",
    "#subset_clean[\"Age\"].std() # 6. Desviación estándar\n",
    "subset_clean[\"Age\"].quantile([.25,.5,.75]) #7. Cuantiles\n",
    "\n",
    "\n"
   ]
  },
  {
   "cell_type": "code",
   "execution_count": null,
   "metadata": {},
   "outputs": [],
   "source": [
    "subset1 = data[[\"Pclass\",\"Fare\"]]\n",
    "cov_matrix = np.cov(subset1, bias=True)\n",
    "print(cov_matrix)\n",
    "sn.heatmap(cov_matrix, annot=True, fmt='g')\n",
    "plt.show()"
   ]
  },
  {
   "cell_type": "code",
   "execution_count": null,
   "metadata": {},
   "outputs": [],
   "source": [
    "datos1 = data[\"Survived\"]\n",
    "live = data[(data[\"Survived\"]==1)]\n",
    "dead = data[(data[\"Survived\"]==0)]\n",
    "print(\"De los\",data.shape[0], \"pasajeros del titanic\",\"sobrevivieron\",live.shape[0],\"y murieron\",dead.shape[0])\n",
    "plt.hist(datos1,bins=20) # bins=10 default\n",
    "plt.title(\"Sobrevivieron?\")\n",
    "plt.xlabel(\"si =1, no = 0\")\n",
    "plt.ylabel(\"Frecuencia\")"
   ]
  },
  {
   "cell_type": "code",
   "execution_count": null,
   "metadata": {},
   "outputs": [],
   "source": [
    "\"\"\"\n",
    "Categorización de los datos en hombre/mujeres vivos/muertos\n",
    "\"\"\"\n",
    "\n",
    "livem = data[(data[\"Survived\"]==1) & (data[\"Sex\"] == \"male\")]\n",
    "livef = data[(data[\"Survived\"]==1) & (data[\"Sex\"] == \"female\")]\n",
    "deadm = data[(data[\"Survived\"]==0) & (data[\"Sex\"] == \"male\")]\n",
    "deadf = data[(data[\"Survived\"]==0) & (data[\"Sex\"] == \"female\")]\n",
    "print(\"De los\",live.shape[0], \"pasajeros que sobrevivieron\",livem.shape[0],\"eran hombres y\",livef.shape[0],\"eran mujeres\")\n",
    "print(\"De los\",dead.shape[0], \"pasajeros que murieron\",deadm.shape[0],\"eran hombres y\",deadf.shape[0],\"eran mujeres\")"
   ]
  },
  {
   "cell_type": "code",
   "execution_count": null,
   "metadata": {},
   "outputs": [],
   "source": [
    "plt.subplot(1,2,1)\n",
    "plt.title(\"Sobrevivieron? (Hombres)\")\n",
    "plt.hist(livem[\"Survived\"],bins=20)\n",
    "plt.hist(deadm[\"Survived\"],bins=20)\n",
    "plt.xlabel(\"si =1, no = 0\")\n",
    "#plt.text(1,400,livem.shape[0])\n",
    "#plt.text(1,300,deadm.shape[0])\n",
    "\n",
    "plt.subplot(1,2,2)\n",
    "plt.title(\"Sobrevivieron? (Mujeres)\")\n",
    "plt.hist(livef[\"Survived\"],bins=20)\n",
    "plt.hist(deadf[\"Survived\"],bins=20)\n",
    "plt.xlabel(\"si =1, no = 0\")\n"
   ]
  },
  {
   "cell_type": "code",
   "execution_count": null,
   "metadata": {},
   "outputs": [],
   "source": [
    "plt.hist(data[\"Age\"],bins=20)\n",
    "plt.hist(livem[\"Age\"],bins=20)\n",
    "plt.hist(deadm[\"Age\"],bins=20)"
   ]
  },
  {
   "cell_type": "markdown",
   "metadata": {},
   "source": []
  }
 ],
 "metadata": {
  "kernelspec": {
   "display_name": "Python 3.10.6 ('py310')",
   "language": "python",
   "name": "python3"
  },
  "language_info": {
   "codemirror_mode": {
    "name": "ipython",
    "version": 3
   },
   "file_extension": ".py",
   "mimetype": "text/x-python",
   "name": "python",
   "nbconvert_exporter": "python",
   "pygments_lexer": "ipython3",
   "version": "3.10.6"
  },
  "orig_nbformat": 4,
  "vscode": {
   "interpreter": {
    "hash": "819112c24f0d6b36d35f6c5653e120a0c93a25f82bf2809eaf9b65613f02e80c"
   }
  }
 },
 "nbformat": 4,
 "nbformat_minor": 2
}
