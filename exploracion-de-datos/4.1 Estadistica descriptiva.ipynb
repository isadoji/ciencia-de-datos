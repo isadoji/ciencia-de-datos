{
 "cells": [
  {
   "cell_type": "markdown",
   "metadata": {},
   "source": [
    "# Estadística descriptiva\n",
    "\n",
    "Medidas estadísticas utilizadas para describir las propiedades de los datos:\n",
    "\n",
    "Medidas de tendencia central\n",
    "\n",
    "1. Media aritmética\n",
    "2. Moda\n",
    "3. Mediana\n",
    "\n",
    "Medidas de dispersión\n",
    "\n",
    "4. Desviación respecto a la media aritmética\n",
    "5. Varianza\n",
    "6. Desviación estándar\n",
    "7. Cuartiles\n",
    "8. Covarianza\n",
    "9. Correlación"
   ]
  },
  {
   "cell_type": "code",
   "execution_count": null,
   "metadata": {},
   "outputs": [],
   "source": [
    "import pandas as pd\n",
    "import os\n",
    "import matplotlib.pyplot as plt\n",
    "import numpy as np\n",
    "\n",
    "mainpath = \"../datasets/\"\n",
    "filename = \"customer-churn-model/Customer Churn Model.txt\"\n",
    "fullpath = os.path.join(mainpath, filename)\n",
    "data = pd.read_csv (fullpath)\n",
    "data.head()"
   ]
  },
  {
   "cell_type": "markdown",
   "metadata": {},
   "source": [
    "## 1. Media aritmética:\n",
    "\n",
    "Es el valor obtenido al sumar todos los datos y dividir el resultado entre el número total elementos.\n",
    "\n",
    "\\begin{align}\n",
    "\\mu = \\bar{x}=\\frac{\\sum_{i=1}^{n}x_i}{n}\n",
    "\\end{align}\n"
   ]
  },
  {
   "cell_type": "code",
   "execution_count": null,
   "metadata": {},
   "outputs": [],
   "source": [
    "datos1 = data[\"Day Calls\"]\n",
    "datos2 = data[\"Day Charge\"]\n"
   ]
  },
  {
   "cell_type": "code",
   "execution_count": null,
   "metadata": {},
   "outputs": [],
   "source": [
    "'''Media aritmetica'''\n",
    "def media(datos):\n",
    "    elementos = len(datos)\n",
    "    sum_numerador = sum([datos[i] for i in range(elementos)])\n",
    "    return round(sum_numerador/elementos,2)  \n",
    "media_aritmetica = media(datos1)\n",
    "print(media_aritmetica)"
   ]
  },
  {
   "cell_type": "code",
   "execution_count": null,
   "metadata": {},
   "outputs": [],
   "source": [
    "plt.hist(datos1,bins=20) # bins=10 default\n",
    "plt.xlabel(\"Número de llamadas al día\")\n",
    "plt.ylabel(\"Frecuencia\")\n",
    "plt.title(\"Histograma de la media aritmetica de número de llamadas al día\")\n",
    "plt.axvline(media_aritmetica, color='k', linestyle='dashed', linewidth=1)\n",
    "min_ylim, max_ylim = plt.ylim()\n",
    "plt.text(media_aritmetica*1.1, max_ylim*0.9,media_aritmetica)"
   ]
  },
  {
   "cell_type": "markdown",
   "metadata": {},
   "source": [
    "### 1.1. Media truncada\n",
    "\n",
    " El cálculo de la media después de descartar las partes extremas de la distribución normalmente descartando una cantidad igual de ambos. \n",
    "\n",
    "\\begin{align}\n",
    "\\bar{x}_T=\\frac{\\sum_{i=p+1}^{n-p}x_i}{n-2p}\n",
    "\\end{align}\n",
    "\n",
    "con $p$ los valores extremos.\n",
    "\n",
    "Para la mayoría de las aplicaciones estadísticas, se descartan del 5 al 25 por ciento de los extremo (cuartiles)"
   ]
  },
  {
   "cell_type": "code",
   "execution_count": null,
   "metadata": {},
   "outputs": [],
   "source": [
    "\n",
    "\n",
    "data2 = data[(data[\"Day Calls\"]>data[\"Day Calls\"].min()) & (data[\"Day Calls\"]<data[\"Day Calls\"].max())]\n",
    "suma2 = data2[\"Day Calls\"].sum()\n",
    "elementos2 = data2[\"Day Calls\"].shape\n",
    "media2 = suma2 / elementos2\n",
    "\n",
    "plt.hist(data2[\"Day Calls\"],bins=20) # bins=10 default\n",
    "plt.xlabel(\"Número de llamadas al día\")\n",
    "plt.ylabel(\"Frecuencia\")\n",
    "plt.title(\"Histograma de la media truncada de número de llamadas al día\")\n",
    "plt.axvline(media2, color='k', linestyle='dashed', linewidth=1)\n",
    "min_ylim, max_ylim = plt.ylim()\n",
    "plt.text(media2*1.1, max_ylim*0.9,media2)"
   ]
  },
  {
   "cell_type": "markdown",
   "metadata": {},
   "source": [
    "### 1.2 Media ponderada\n",
    "\n",
    "Media que otorga diferentes pesos a los distintos valores sobre los que se calcula\n",
    "\n",
    "\\begin{align}\n",
    "\\bar{x}_w=\\frac{\\sum_{i=1}^{n}w_i x_i}{\\sum_{i=1}^{n}w_i}\n",
    "\\end{align}"
   ]
  },
  {
   "cell_type": "code",
   "execution_count": null,
   "metadata": {},
   "outputs": [],
   "source": [
    "pesos = data[\"CustServ Calls\"]\n",
    "def media_ponderada(datos, pesos):\n",
    "  \n",
    "    sum_numerador = sum([datos[i]*pesos[i] for i in range(len(datos))])\n",
    "    sum_denominador = sum(pesos)\n",
    "    \n",
    "    return round(sum_numerador/sum_denominador,2)\n",
    "\n",
    "media_aritmetica_ponderada= media_ponderada(datos1, pesos)\n",
    "print(media_aritmetica_ponderada)"
   ]
  },
  {
   "cell_type": "code",
   "execution_count": null,
   "metadata": {},
   "outputs": [],
   "source": [
    "plt.hist(datos1,bins=20) # bins=10 default\n",
    "plt.xlabel(\"Número de llamadas al día\")\n",
    "plt.ylabel(\"Frecuencia\")\n",
    "plt.title(\"Histograma de la media ponderada de número de llamadas al día\")\n",
    "plt.axvline(media_aritmetica_ponderada, color='k', linestyle='dashed', linewidth=1)\n",
    "min_ylim, max_ylim = plt.ylim()\n",
    "plt.text(media_aritmetica_ponderada*1.1, max_ylim*0.9,media_aritmetica_ponderada)"
   ]
  },
  {
   "cell_type": "markdown",
   "metadata": {},
   "source": [
    "# 2. Moda\n",
    "\n",
    "Es el valor que aparece con mayor frecuencia en un conjunto de datos"
   ]
  },
  {
   "cell_type": "markdown",
   "metadata": {},
   "source": [
    "# 3. Mediana\n",
    "\n",
    "Es el valor que ocupa el lugar central de todos los datos cuando éstos están ordenados de menor a mayor. Se puede hallar solo para variables cuantitativas."
   ]
  },
  {
   "cell_type": "markdown",
   "metadata": {},
   "source": [
    "## 4. Desviación respecto a la media aritmética\n",
    "\n",
    "Es la diferencia en valor absoluto entre cada valor de la variable estadística y la media aritmética.\n",
    "\n",
    "\\begin{align}\n",
    "D_i = |x_i - \\mu|\n",
    "\\end{align}"
   ]
  },
  {
   "cell_type": "code",
   "execution_count": null,
   "metadata": {},
   "outputs": [],
   "source": [
    "\n",
    "'''Desviacon de la media'''\n",
    "desviacion = []\n",
    "desviacion = [round(abs(data[\"Day Calls\"] - media_aritmetica),2)]\n",
    "plt.hist(desviacion,bins=20) # bins=10 default\n",
    "plt.xlabel(\"Desviacion\")\n",
    "plt.ylabel(\"Frecuencia\")\n",
    "plt.title(\"Histograma de la desviacion de la media de número de llamadas al día\")"
   ]
  },
  {
   "cell_type": "markdown",
   "metadata": {},
   "source": [
    "## 5. Varianza\n",
    "\n",
    "Es la media aritmética del cuadrado de las desviaciones respecto a la media de una distribución estadística. La varianza intenta describir la dispersión de los datos.\n",
    "\n",
    "\\begin{align}\n",
    "Var = \\sigma^2 = \\frac{\\sum_{i=1}^{n}(x_i - \\mu)^2}{n}\n",
    "\\end{align}\n"
   ]
  },
  {
   "cell_type": "code",
   "execution_count": null,
   "metadata": {},
   "outputs": [],
   "source": [
    "'''Varianza'''\n",
    "mu = media(datos1)\n",
    "def varianza(datos):\n",
    "    columns = len(datos)\n",
    "    sumatory = sum((datos[i]-mu)*(datos[i]-mu) for i in range(columns))\n",
    "    return round(sumatory/columns,2)\n",
    "\n",
    "varianza(datos1)\n"
   ]
  },
  {
   "cell_type": "markdown",
   "metadata": {},
   "source": [
    "# 6. Desviación estandar\n",
    "\n",
    "Es la raíz cuadrada de la varianza.\n",
    "\n",
    "\\begin{align}\n",
    "\\sigma = \\sqrt{\\frac{\\sum_{i=1}^{n}(x_i - \\mu)^2}{n}}\n",
    "\\end{align}"
   ]
  },
  {
   "cell_type": "code",
   "execution_count": null,
   "metadata": {},
   "outputs": [],
   "source": [
    "'''Desviacion estandar'''\n",
    "mu = media(datos1)\n",
    "def standar_deviation(datos):\n",
    "    columns = len(datos)\n",
    "    sumatory = sum((datos[i]-mu)*(datos[i]-mu) for i in range(columns))\n",
    "    return round(np.sqrt(sumatory/columns),2)\n",
    "\n",
    "stand_dev = standar_deviation(datos1)\n"
   ]
  },
  {
   "cell_type": "code",
   "execution_count": null,
   "metadata": {},
   "outputs": [],
   "source": [
    "plt.hist(datos1,bins=20) # bins=10 default\n",
    "plt.xlabel(\"Número de llamadas al día\")\n",
    "plt.ylabel(\"Frecuencia\")\n",
    "plt.title(\"Histograma de la desviacion estandar de número de llamadas al día\")\n",
    "plt.axvline(media_aritmetica, color='k', linestyle='dashed', linewidth=1)\n",
    "plt.axvline(media_aritmetica+stand_dev, color='r', linestyle='dashed', linewidth=1)\n",
    "plt.axvline(media_aritmetica-stand_dev, color='r', linestyle='dashed', linewidth=1)\n",
    "min_ylim, max_ylim = plt.ylim()\n",
    "plt.text(media_aritmetica*1.03, max_ylim*0.97,\"$\\mu$\")\n",
    "plt.text(media_aritmetica+stand_dev*1.1, max_ylim*0.9,\"$\\sigma$\",color='r')\n",
    "plt.text(media_aritmetica-stand_dev*1.5, max_ylim*0.9,\"$-\\sigma$\",color='r')\n"
   ]
  },
  {
   "cell_type": "markdown",
   "metadata": {},
   "source": [
    "# 7. Cuartiles\n",
    "\n",
    "Los **cuantiles** son puntos tomados a intervalos regulares de la función de distribución de una variable aleatoria.\n",
    "\n",
    "Los **cuartiles** son cuantiles que se multiplican por un cuarto de un conjunto de datos, sinedo los tres puntos que dividen el conjunto de datos en cuatro grupos iguales, cada grupo comprende un cuarto de los datos.\n",
    "\n",
    "**Q1**: es el número medio entre el número más pequeño y la mediana del conjunto de datos. \n",
    "\n",
    "**Q2**: es la mediana de los datos. \n",
    "\n",
    "**Q3**: es el valor medio entre la mediana y el valor más alto del conjunto de datos. \n",
    "\n",
    "La diferencia entre **Q3** y **Q1** es el rango intercuartilar **IQR**\n",
    "\n",
    "                IQR = Q3 - Q1\n",
    "\n",
    "Cualquier punto de datos que se encuentre fuera del rango de decisión definido como:\n",
    "\n",
    "                Límite inferior: (Q1 - 1.5 * IQR)\n",
    "                Límite superior: (Q3 + 1.5 * IQR)\n",
    "\n",
    "se considera un valor atípico."
   ]
  },
  {
   "cell_type": "markdown",
   "metadata": {},
   "source": [
    "## Por que 1.5?\n",
    "\n",
    "![DIV](gauss.jpg)\n",
    "\n",
    "* Alrededor del 68.26% de todos los datos se encuentran dentro de una desviación estándar ($<\\sigma$) de la media ($\\mu$), teniendo en cuenta ambos lados (región rosa)\n",
    "\n",
    "* Alrededor del 95.44% de todos los datos se encuentran dentro de dos desviaciones estándar ($2\\sigma$) de la media ($\\mu$), teniendo en cuenta ambos lados (región rosa+azul).\n",
    "\n",
    "* Alrededor del 99.72% de todos los datos se encuentran dentro de las tres desviaciones estándar ($<3\\sigma$) de la media ($\\mu$), teniendo en cuenta ambos lados (región rosa+azul+verde).\n",
    "\n",
    "* El 0.28% restante de todos los datos se encuentra fuera de las tres desviaciones estándar ($>3\\sigma$) de la media ($\\mu$), teniendo en cuenta ambos lados (región roja). Esta parte de los datos se considera como valores atípicos.\n",
    "\n",
    "1. Los cuartiles **Q1** y **Q3**, se encuentran a -0.675 $\\sigma$ y +0.675 $\\sigma$ de la media, respectivamente.\n",
    "\n",
    "2. Cuando la escala se toma como 1.5, de acuerdo con el método **IQR**:\n",
    "\n",
    "                Límite inferior\n",
    "                = Q1 - 1.5 * IQR\n",
    "                = Q1 - 1.5 * (Q3 - Q1)\n",
    "                = -0.675σ - 1.5 * (0.675 - [-0.675])σ\n",
    "                = -0.675σ - 1.5 * 1.35σ\n",
    "                = -2.7σ\n",
    "\n",
    "                Límite superior:\n",
    "                = Q3 + 1.5 * IQR\n",
    "                = Q3 + 1.5 * (Q3 - Q1)\n",
    "                = 0.675σ + 1.5 * (0.675 - [-0.675])σ\n",
    "                = 0.675σ + 1.5 * 1.35σ\n",
    "                = 2.7σ\n",
    "\n",
    "\n",
    "entonces, cualquier dato que se encuentre más allá de 2.7 $\\sigma$ de la media ($\\mu$), en cualquier lado, se considerará como atípico, y este rango de decisión es el más cercano a lo que nos dice la distribución gaussiana, es decir, 3 $\\sigma$."
   ]
  },
  {
   "cell_type": "markdown",
   "metadata": {},
   "source": [
    "# 8. Covarianza\n",
    "\n",
    "La covarianza la varianza aplicado a una variable bidimensional. Es la media aritmética de los productos de las desviaciones de cada una de las variables respecto a sus medias. \n",
    "\n",
    "\\begin{align}\n",
    "Cov_{x, y} = \\frac{\\sum_{i=1}^{n}(x_i - \\mu_x)(y_i - \\mu_y)}{n}\n",
    "\\end{align}\n",
    "\n",
    "La covarianza indica el sentido de la correlación entre las variables:\n",
    "1. cov > 0-> correlación es directa\n",
    "2. cov = 0 -> no existe correlación\n",
    "3. cov < 0 -> correlación es inversa. \n",
    "\n",
    "## Matriz de correlación:\n",
    "\n",
    "$$\\Sigma = \n",
    "\\begin{bmatrix} \n",
    "Var(x_1) & Cov(x_1, x_2) & \\cdots & Cov(x_1, x_n)\\\\ \n",
    "Cov(x_2, x_1) & Var(x_2) & \\cdots & Cov(x_2, x_n)\\\\\n",
    " \\vdots & \\vdots & \\vdots & \\vdots \\\\ \n",
    "Cov(x_n, x_1) & Cov(x_n, x_2) & \\cdots & Var(x_n)\\\\\n",
    "\\end{bmatrix}$$\n"
   ]
  },
  {
   "cell_type": "markdown",
   "metadata": {},
   "source": [
    "# 9. Coeficiente de correlación de Perason\n",
    "\n",
    "Medida del grado de dependencia lineal entre dos variables siempre y cuando ambas sean cuantitativas y continuas. A diferencia de la covarianza, la correlación de Pearson es independiente de la escala de medida de las variables, ya que está normalizada a la desviación estandar.\n",
    "\n",
    "\\begin{align}\n",
    "\\rho=\\frac{Cov_{xy}}{\\sigma_x\\sigma_y}\n",
    "\\end{align}\n",
    "\n",
    "Su valor se encuentra entre [-1,1] con: \n",
    "1. corr = 1 -> todos los puntos de datos se encuentran en  una línea recta de pendiente positiva\n",
    "2. corr = 0 -> no existe una correlación lineal entre las variables\n",
    "3. corr = -1 -> todos los puntos de datos se encuentran en una línea recta de pendiente negativa\n"
   ]
  },
  {
   "cell_type": "code",
   "execution_count": null,
   "metadata": {},
   "outputs": [],
   "source": [
    "\"\"\" \n",
    "Podemos utilizar pandas para obtener la información estadística de los datos.\n",
    "\"\"\"\n",
    "data.describe()\n"
   ]
  },
  {
   "cell_type": "markdown",
   "metadata": {},
   "source": []
  }
 ],
 "metadata": {
  "kernelspec": {
   "display_name": "Python 3.10.6 ('py310')",
   "language": "python",
   "name": "python3"
  },
  "language_info": {
   "codemirror_mode": {
    "name": "ipython",
    "version": 3
   },
   "file_extension": ".py",
   "mimetype": "text/x-python",
   "name": "python",
   "nbconvert_exporter": "python",
   "pygments_lexer": "ipython3",
   "version": "3.10.6"
  },
  "orig_nbformat": 4,
  "vscode": {
   "interpreter": {
    "hash": "819112c24f0d6b36d35f6c5653e120a0c93a25f82bf2809eaf9b65613f02e80c"
   }
  }
 },
 "nbformat": 4,
 "nbformat_minor": 2
}
