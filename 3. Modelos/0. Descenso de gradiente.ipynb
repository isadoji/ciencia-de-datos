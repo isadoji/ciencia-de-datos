{
 "cells": [
  {
   "cell_type": "markdown",
   "metadata": {},
   "source": [
    "# Descenso de gradiente\n",
    "\n",
    "Es un algoritmo iterativo que se utiliza para minimizar una función encontrando los parámetros óptimos.Consiste en elegir la dirección $d$ de descenso mas pronunciada. Ya que la dirección de mayor crecimiento de la función es el gradiente:\n",
    "\t\n",
    "\\begin{equation*}\n",
    "g^{k}=\\nabla f(x^{k})\n",
    "\\end{equation*}\n",
    "\n",
    "podemos obtener la dirección de mayor descenso como:\n",
    "\t\n",
    "\\begin{equation*}\n",
    "d^{k}=-\\frac{g^{k}}{||g^{k}||}\n",
    "\\end{equation*}\n",
    "\n",
    "\n",
    "y el siguiente punto a evaluar:\n",
    "\t\n",
    "\\begin{equation*}\n",
    "x^{k+1}=x^{k}+\\alpha d^{k} \n",
    "\\end{equation*}\n",
    "\n",
    "donde $\\alpha$ es la taza de aprendizaje \n",
    "\n",
    "Si la diferencia entre el valor de $x$ anterior y el actual es menor que el umbral de parada, se detienen las interaciones las iteraciones.\n",
    "\n",
    "## Predictor\n",
    "\n",
    "\\begin{equation}\n",
    "y_{pred} = \\beta x + \\epsilon\n",
    "\\end{equation}\n",
    "\n",
    "\n",
    "### Función de costo (mínimos cuadrados)\n",
    "\n",
    "\\begin{equation}\n",
    "J = \\frac{1}{n}\\sum_{i=1}^{n} (y_i-(\\beta x_i+ \\epsilon))^2\n",
    "\\end{equation}\n",
    "\n",
    "\n",
    "\n",
    "### Gradiente\n",
    "\n",
    "\\begin{equation}\n",
    "\\frac{dJ}{d\\beta} = \\frac{-2}{n}\\sum_{i=1}^{n} x_i *  (y_i-(\\beta x_i+ \\epsilon))\n",
    "\\end{equation}\n",
    "\n",
    "\\begin{equation}\n",
    "\\frac{dJ}{d\\epsilon} = \\frac{-2}{n}\\sum_{i=1}^{n} (y_i-(\\beta x_i+ \\epsilon))\n",
    "\\end{equation}\n",
    "\n",
    "### Actualización de parámetros\n",
    "\n",
    "\\begin{equation}\n",
    "\\beta = \\beta - lr*\\frac{dJ}{d\\beta} \n",
    "\\end{equation}\n",
    "\n",
    "\\begin{equation}\n",
    "\\epsilon = \\epsilon - lr*\\frac{dJ}{d\\epsilon} \n",
    "\\end{equation}\n",
    "\n",
    "https://www.geeksforgeeks.org/how-to-implement-a-gradient-descent-in-python-to-find-a-local-minimum/"
   ]
  },
  {
   "cell_type": "code",
   "execution_count": null,
   "metadata": {},
   "outputs": [],
   "source": [
    "import numpy as np\n",
    "import matplotlib.pyplot as plt\n"
   ]
  },
  {
   "cell_type": "code",
   "execution_count": null,
   "metadata": {},
   "outputs": [],
   "source": [
    "def mean_squared_error(y_true, y_predicted):  \n",
    "    cost = np.sum((y_true-y_predicted)**2) / len(y_true)\n",
    "    return cost"
   ]
  },
  {
   "cell_type": "code",
   "execution_count": null,
   "metadata": {},
   "outputs": [],
   "source": [
    "def gradient_descent(x, y, iterations = 1000, learning_rate = 0.0001, \n",
    "                     stopping_threshold = 1e-6):\n",
    "    current_weight = 0.1\n",
    "    current_bias = 0.01\n",
    "    iterations = iterations\n",
    "    learning_rate = learning_rate\n",
    "    n = float(len(x))\n",
    "     \n",
    "    costs = []\n",
    "    weights = []\n",
    "    previous_cost = None\n",
    "     \n",
    "    for i in range(iterations):\n",
    "        y_predicted = (current_weight * x) + current_bias\n",
    "        current_cost = mean_squared_error(y, y_predicted)\n",
    "        if previous_cost and abs(previous_cost-current_cost)<=stopping_threshold:\n",
    "            break\n",
    "         \n",
    "        previous_cost = current_cost\n",
    "        costs.append(current_cost)\n",
    "        weights.append(current_weight)\n",
    "        \n",
    "        weight_derivative = -(2/n) * sum(x * (y-y_predicted))\n",
    "        bias_derivative = -(2/n) * sum(y-y_predicted)\n",
    "        \n",
    "        current_weight = current_weight - (learning_rate * weight_derivative)\n",
    "        current_bias = current_bias - (learning_rate * bias_derivative)\n",
    "        \n",
    "        print(f\"Iteration {i+1}: Cost {current_cost}, Weight \\\n",
    "        {current_weight}, Bias {current_bias}\")\n",
    "    \n",
    "    plt.figure(figsize = (8,6))\n",
    "    plt.plot(weights, costs)\n",
    "    plt.scatter(weights, costs, marker='o', color='red')\n",
    "    plt.title(\"Cost vs Weights\")\n",
    "    plt.ylabel(\"Cost\")\n",
    "    plt.xlabel(\"Weight\")\n",
    "    plt.show()\n",
    "     \n",
    "    return current_weight, current_bias"
   ]
  },
  {
   "cell_type": "code",
   "execution_count": null,
   "metadata": {},
   "outputs": [],
   "source": [
    "import pandas as pd\n",
    "import os\n",
    "\n",
    "mainpath = \"../datasets/\"\n",
    "filename = 'salary_data.csv'\n",
    "fullpath = os.path.join(mainpath, filename)\n",
    "dataset= pd.read_csv (fullpath)\n"
   ]
  },
  {
   "cell_type": "code",
   "execution_count": null,
   "metadata": {},
   "outputs": [],
   "source": [
    "data_array = np.array(dataset)\n",
    "X = data_array[:,0]\n",
    "Y = data_array[:,1]"
   ]
  },
  {
   "cell_type": "code",
   "execution_count": null,
   "metadata": {},
   "outputs": [],
   "source": [
    "def main():\n",
    "\t\n",
    "\t# Estimating weight and bias using gradient descent\n",
    "\testimated_weight, estimated_bias = gradient_descent(X, Y, iterations=2000)\n",
    "\tprint(f\"Estimated Weight: {estimated_weight}\\nEstimated Bias: {estimated_bias}\")\n",
    "\n",
    "\t# Making predictions using estimated parameters\n",
    "\tY_pred = estimated_weight*X + estimated_bias\n",
    "\t\n",
    "\t# Plotting the regression line\n",
    "\tplt.figure(figsize = (8,6))\n",
    "\tplt.scatter(X, Y, marker='o', color='red')\n",
    "\tplt.plot([min(X), max(X)], [min(Y_pred), max(Y_pred)], color='blue',markerfacecolor='red',\n",
    "\t\t\tmarkersize=10,linestyle='dashed')\n",
    "\tplt.xlabel(\"X\")\n",
    "\tplt.ylabel(\"Y\")\n",
    "\tplt.show()\n",
    "\n",
    "\n"
   ]
  },
  {
   "cell_type": "code",
   "execution_count": null,
   "metadata": {},
   "outputs": [],
   "source": [
    "main()"
   ]
  }
 ],
 "metadata": {
  "kernelspec": {
   "display_name": "py310",
   "language": "python",
   "name": "python3"
  },
  "language_info": {
   "codemirror_mode": {
    "name": "ipython",
    "version": 3
   },
   "file_extension": ".py",
   "mimetype": "text/x-python",
   "name": "python",
   "nbconvert_exporter": "python",
   "pygments_lexer": "ipython3",
   "version": "3.10.6"
  }
 },
 "nbformat": 4,
 "nbformat_minor": 2
}
