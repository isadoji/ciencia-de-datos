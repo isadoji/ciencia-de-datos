{
 "cells": [
  {
   "attachments": {},
   "cell_type": "markdown",
   "metadata": {},
   "source": [
    "# ML\n",
    "\n",
    "* El aprendizaje automático es un método basado en algoritmos para analizar datos para buscar patrones y hacer predicciones precisas.\n",
    "\n",
    "* Los algoritmos de ML son entrenados de diferentes maneras y se pueden dividen en tres categorías.\n",
    "\n",
    "1. **No supervisados**\n",
    "2. **Supervisados**\n",
    "3. **Reforzamiento**"
   ]
  },
  {
   "attachments": {},
   "cell_type": "markdown",
   "metadata": {},
   "source": [
    "# Algoritmos de ML no supervisados\n",
    "\n",
    "ML no supervisado se basa en la idea de que una máquina puede aprender sin ninguna guía. Para el aprendizaje, utiliza datos que no están estructurados ni procesados. La limitación de estos algoritmos es que no tienen un punto de partida y por lo tanto, solo pueden realizar un número reducido de tareas. Las dos principales tareas que pueden realizar son:\n",
    "\n",
    "1. Agrupamiento (clustering)\n",
    "2. Reducción de la dimensionalidad.\n",
    "\n",
    "## Agrupamiento\n",
    "\n",
    "Este algoritmo puede diferenciar dos cosas en función de sus características y separarlas en grupos (clusters). La agrupación en clústeres es excelente para resolver tareas como: filtrado de correo, detección de fraudes, agrupación jerárquica en clústeres para el análisis de documentos, etc.\n",
    "\n",
    "## Reducción de dimensionalidad\n",
    "\n",
    "Este tipo de algoritmo es el procesamiento y la simplificación de los datos al disminuir el número de características. El modelo de reducción de dimensionalidad reduce las características que no son esenciales para la tarea en cuestión, pero deja intactas la estructura y las características principales de los datos.\n",
    "\n",
    "La reducción de ruido y la visualización de datos son tareas comunes para los algoritmos de reducción de dimensionalidad. También se usa comúnmente como un paso intermedio en proyectos de ML más complejos."
   ]
  },
  {
   "attachments": {},
   "cell_type": "markdown",
   "metadata": {},
   "source": [
    "# Algoritmos de aprendizaje automático supervisados\n",
    "\n",
    "A diferencia del aprendizaje no supervisado, los algoritmos supervisados ​​requieren datos etiquetados, lo que le indicará al algoritmo cual es su significado. Esto significa que los modelos se entrenan en función de los datos que han sido procesados. \n",
    "\n",
    "El procesamiento de los datos es la supervisión que se realiza sobre el proceso de entrenamiento, de ahí el nombre de aprendizaje supervisado. Hay bastantes tipos de algoritmos los mas utilizados son los de regresión, clasificación y pronóstico (forecasting).\n",
    "\n",
    "## Regresión\n",
    "\n",
    "Se requiera el análisis de valores continuos para encontrar una correlación entre diferentes variables. La regresión ayuda a buscar esta correlación y predecir una salida.\n",
    "\n",
    "Este tipo de algoritmo supervisado se usa comúnmente para predecir los precios o el valor de ciertos objetos en función de un conjunto de sus características. \n",
    "\n",
    "## Clasificación\n",
    "\n",
    "Similar a la agrupación no supervizada, la clasificación permite entrenar al algoritmo para agrupar diferentes objetos (valores) en categorías (o clases). La diferencia es que, ahora, el algoritmo sabe qué clase contiene qué objetos. \n",
    "\n",
    "A diferencia de la regresión, la clasificación se basa en un número limitado de valores. Puede ser binario  o multiclase .\n",
    "\n",
    "## Pronóstico\n",
    "\n",
    "Los algoritmos de pronóstico pueden \"predecir el futuro\", ya que pueden analizar los datos \"pasados y presentes\" en profundidad, buscar patrones ocultos y hacer predicciones basadas en este análisis.\n",
    "\n",
    "El análisis de tendencias es el fuerte de este tipo de algoritmo de aprendizaje automático. Es por eso que el pronóstico se usa comúnmente en negocios y finanzas."
   ]
  },
  {
   "attachments": {},
   "cell_type": "markdown",
   "metadata": {},
   "source": [
    "# Algoritmos de aprendizaje automático semisupervisados\n",
    "\n",
    "Hay casos en los que la combinación de los dos tipos de algoritmos puede brindarl mejores resultados, esto se debe a las características principales de cada tipo de algoritmo: el aprendizaje no supervisado aporta *simplicidad y eficiencia*, mientras que el aprendizaje supervisado tiene que ver con la *flexibilidad y los objetivos integrales*.\n",
    "\n",
    "Cuando se combinan dos tipos de diferentes algoritmos, se obtiene un aprendizaje **semisupervisado**. Este tipo de algoritmo ML le permite reducir significativamente el costo financiero, humano y de tiempo para anotar los datos. Al mismo tiempo, los algoritmos de aprendizaje semisupervisados ​​no están tan restringidos en la elección de tareas como los algoritmos de aprendizaje supervisado.\n",
    "\n"
   ]
  },
  {
   "attachments": {},
   "cell_type": "markdown",
   "metadata": {},
   "source": [
    "# Algoritmos de ML de refuerzo\n",
    "\n",
    "Y ahora para algo completamente diferente. Tanto los algoritmos no supervisados ​​como los supervisados ​​funcionan con los datos, ya sea sin etiquetar o etiquetados. Un algoritmo de refuerzo entrena dentro de un entorno con un conjunto de reglas y un objetivo definido.\n",
    "\n",
    "Los algoritmos de aprendizaje por refuerzo generalmente se basan en técnicas de programación dinámica. La idea detrás de este tipo de algoritmo ML es equilibrar la exploración y la explotación. Hay un territorio desconocido que un algoritmo puede explorar, pero cada acción será seguida por una respuesta de un sistema, ya sea positiva o negativa. Entrenando en estas respuestas, el algoritmo aprenderá a elegir el mejor conjunto de acciones para lograr el objetivo establecido.\n",
    "\n",
    "Un ejemplo de un algoritmo de refuerzo es el entrenamiento de vehículos autónomos. Se requiere que el algoritmo navegue por el entorno sin chocar con nada y obedeciendo las reglas de tránsito."
   ]
  },
  {
   "attachments": {},
   "cell_type": "markdown",
   "metadata": {},
   "source": [
    "# El mejor algoritmo de aprendizaje automático\n",
    "\n",
    "1. Comprenda el objetivo de su proyecto\n",
    "\n",
    "Considerar el tipo de proyecto con el que está tratando: ¿qué tipo de salida necesita? ¿Necesitas un algoritmo de predicción basado en los datos anteriores? Recurra a los algoritmos de pronóstico supervisados. ¿Está buscando un modelo de reconocimiento de imágenes que funcione con fotos de baja calidad? La reducción de la dimensionalidad en combinación con la clasificación le ayudará con ello. ¿Necesitas enseñarle a tu modelo a jugar un juego nuevo? Un algoritmo de refuerzo será su mejor apuesta.\n",
    "\n",
    "2. Analizar los datos por tamaño, procesamiento y anotación requerida\n",
    "\n",
    "Qué entradas se tienen?. ¿Cómo son tus datos? ¿Es crudo, simplemente recolectado de donde sea y requiere procesamiento? ¿Es parcial, sucio y desestructurado? ¿O ya tiene un gran conjunto de datos anotados en sus manos? ¿Tiene suficientes datos o se requiere una recopilación adicional (o incluso una recopilación desde cero)? ¿Necesita dedicar tiempo a preparar sus datos para el proceso de capacitación o está listo para comenzar?. Los datos insuficientes, de baja calidad y sin procesar generalmente no se prestan a un gran entrenamiento de un algoritmo supervisado. Debe decidir si desea dedicar tiempo y recursos a preparar los mejores datos que pueda antes de comenzar el proceso de capacitación. De lo contrario, puede optar por algoritmos no supervisados, pero tenga en cuenta las limitaciones de dicha elección.\n",
    "\n",
    "3. Evalúar el Tiempo de Entrenamiento\n",
    "\n",
    "¿Lo necesita rápido incluso si eso significa una menor calidad de entrenamiento (y, respectivamente, predicciones)? Más datos y de mayor calidad conducen a una mejor capacitación. ¿Se puede asignar el tiempo necesario para la formación adecuada?\n",
    "\n",
    "4. Saber la linealidad de los datos\n",
    "\n",
    "Los algoritmos lineales (como la regresión lineal o las máquinas de vectores de soporte) son más simples y rápidos de entrenar. Sin embargo, no suelen usarse para problemas más complejos ya que tratan con datos lineales. Si los datos son multifacéticos, multidimensionales y tienen muchas correlaciones que se cruzan, es posible que los algoritmos lineales no sean suficientes para su tarea.\n",
    "\n",
    "5. Decida la cantidad de funciones y parámetros\n",
    "\n",
    "¿Qué tan complejo y preciso debe ser el modelo al final? ¿Se pueden especificar más características y parámetros para que el modelo los interprete y se entrene por más tiempo?. Darle a su algoritmo más tiempo para aprender puede ser una buena inversión en su futura precisión e interpretabilidad de salida."
   ]
  },
  {
   "attachments": {},
   "cell_type": "markdown",
   "metadata": {},
   "source": [
    "# Pasos para construir y usar un modelo\n",
    "\n",
    "1. Ajuste a los datos proporcionados para proporcionar patrones.\n",
    "2. Definir que tipo de modelo se utilizara y sus parámetros\n",
    "3. Entrenar el modelo para hacer una predicción\n",
    "4. Evaluar el modelo para determinar qué tan precisas son las predicciones del modelo.\n",
    "\n"
   ]
  }
 ],
 "metadata": {
  "kernelspec": {
   "display_name": "py310",
   "language": "python",
   "name": "python3"
  },
  "language_info": {
   "name": "python",
   "version": "3.10.6"
  },
  "orig_nbformat": 4,
  "vscode": {
   "interpreter": {
    "hash": "819112c24f0d6b36d35f6c5653e120a0c93a25f82bf2809eaf9b65613f02e80c"
   }
  }
 },
 "nbformat": 4,
 "nbformat_minor": 2
}
