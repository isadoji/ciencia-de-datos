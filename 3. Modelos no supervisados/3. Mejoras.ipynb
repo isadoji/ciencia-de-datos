{
 "cells": [
  {
   "cell_type": "markdown",
   "metadata": {},
   "source": [
    "# Mejorar el rendimiento del modelo ML"
   ]
  },
  {
   "cell_type": "markdown",
   "metadata": {},
   "source": [
    "## Grid search Keras"
   ]
  },
  {
   "cell_type": "code",
   "execution_count": null,
   "metadata": {},
   "outputs": [],
   "source": [
    "import numpy as np\n",
    "import pandas as pd\n",
    "from keras.models import Sequential\n",
    "from keras.layers import Dense\n",
    "from scikeras.wrappers import KerasRegressor\n",
    "from scikeras.wrappers import KerasClassifier\n",
    "from sklearn.model_selection import GridSearchCV\n",
    "\n",
    "\n",
    "\n",
    "# Definir una función para crear el modelo\n",
    "def create_model(optimizer='adam', init='uniform'):\n",
    "    model = Sequential()\n",
    "    model.add(Dense(64, \n",
    "                    input_dim=target_train.shape[1], \n",
    "                    kernel_initializer=init, \n",
    "                    activation='relu'))\n",
    "    model.add(Dense(32, \n",
    "                    kernel_initializer=init, \n",
    "                    activation='relu'))\n",
    "    model.add(Dense(1, \n",
    "                    kernel_initializer=init, \n",
    "                    activation='sigmoid'))\n",
    "    model.compile(loss='binary_crossentropy', \n",
    "                  optimizer=optimizer, metrics=['accuracy'])\n",
    "    return model\n",
    "\n",
    "# Crear el modelo de KerasClassifier\n",
    "model = KerasClassifier(build_fn=create_model, verbose=0)\n",
    "\n",
    "# Definir los hiperparámetros para la búsqueda en cuadrícula\n",
    "param_grid = {\n",
    "    'batch_size': [10, 20, 40],\n",
    "    'epochs': [50, 100],\n",
    "    'optimizer': ['adam', 'rmsprop']\n",
    "}\n",
    "\n",
    "# Crear el GridSearchCV\n",
    "grid = GridSearchCV(estimator=model, param_grid=param_grid, n_jobs=-1, cv=3)\n",
    "\n",
    "# Realizar la búsqueda en cuadrícula\n",
    "grid_result = grid.fit(features_train, target_train)\n",
    "\n",
    "# Imprimir los mejores hiperparámetros y el mejor score\n",
    "print(f\"Mejores hiperparámetros: {grid_result.best_params_}\")\n",
    "print(f\"Mejor score: {grid_result.best_score_}\")\n",
    "\n",
    "# Evaluar el modelo en el conjunto de prueba\n",
    "best_model = grid_result.best_estimator_\n",
    "score = best_model.score(features_test, target_test)\n",
    "print(f\"Score en el conjunto de prueba: {score}\")"
   ]
  }
 ],
 "metadata": {
  "language_info": {
   "name": "python"
  }
 },
 "nbformat": 4,
 "nbformat_minor": 2
}
