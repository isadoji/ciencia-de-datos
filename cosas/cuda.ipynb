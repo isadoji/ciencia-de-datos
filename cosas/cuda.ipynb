{
 "cells": [
  {
   "cell_type": "code",
   "execution_count": 2,
   "metadata": {},
   "outputs": [
    {
     "name": "stdout",
     "output_type": "stream",
     "text": [
      "Elapsed (with compilation) = 0.2884206771850586\n",
      "Elapsed (after compilation) = 3.6716461181640625e-05\n"
     ]
    }
   ],
   "source": [
    "from numba import jit\n",
    "import numpy as np\n",
    "import time\n",
    "\n",
    "x = np.arange(100).reshape(10, 10)\n",
    "\n",
    "@jit(nopython=True)\n",
    "def go_fast(a): # Function is compiled and runs in machine code\n",
    "    trace = 0.0\n",
    "    for i in range(a.shape[0]):\n",
    "        trace += np.tanh(a[i, i])\n",
    "    return a + trace\n",
    "\n",
    "# DO NOT REPORT THIS... COMPILATION TIME IS INCLUDED IN THE EXECUTION TIME!\n",
    "start = time.time()\n",
    "go_fast(x)\n",
    "end = time.time()\n",
    "print(\"Elapsed (with compilation) = %s\" % (end - start))\n",
    "\n",
    "# NOW THE FUNCTION IS COMPILED, RE-TIME IT EXECUTING FROM CACHE\n",
    "start = time.time()\n",
    "go_fast(x)\n",
    "end = time.time()\n",
    "print(\"Elapsed (after compilation) = %s\" % (end - start))"
   ]
  },
  {
   "cell_type": "code",
   "execution_count": 7,
   "metadata": {},
   "outputs": [],
   "source": [
    "import os\n",
    "import time\n",
    "import threading\n",
    "import multiprocessing\n",
    "NUM_WORKERS = 5\n",
    "def only_sleep():\n",
    "    \"\"\" Do nothing, wait for a timer to expire \"\"\"\n",
    "    print(\"PID: %s, Process Name: %s, Thread Name: %s\" % (\n",
    "        os.getpid(),\n",
    "        multiprocessing.current_process().name,\n",
    "        threading.current_thread().name)\n",
    "    )\n",
    "    time.sleep(1)\n",
    "def crunch_numbers():\n",
    "    \"\"\" Do some computations \"\"\"\n",
    "    print(\"PID: %s, Process Name: %s, Thread Name: %s\" % (\n",
    "        os.getpid(),\n",
    "        multiprocessing.current_process().name,\n",
    "        threading.current_thread().name)\n",
    "    )\n",
    "    x = 0\n",
    "    while x < 10000000:\n",
    "        x += 1"
   ]
  },
  {
   "cell_type": "code",
   "execution_count": 8,
   "metadata": {},
   "outputs": [
    {
     "name": "stdout",
     "output_type": "stream",
     "text": [
      "PID: 134059, Process Name: MainProcess, Thread Name: MainThread\n",
      "PID: 134059, Process Name: MainProcess, Thread Name: MainThread\n",
      "PID: 134059, Process Name: MainProcess, Thread Name: MainThread\n",
      "PID: 134059, Process Name: MainProcess, Thread Name: MainThread\n",
      "PID: 134059, Process Name: MainProcess, Thread Name: MainThread\n",
      "PID: 134059, Process Name: MainProcess, Thread Name: MainThread\n",
      "PID: 134059, Process Name: MainProcess, Thread Name: MainThread\n",
      "PID: 134059, Process Name: MainProcess, Thread Name: MainThread\n",
      "PID: 134059, Process Name: MainProcess, Thread Name: MainThread\n",
      "PID: 134059, Process Name: MainProcess, Thread Name: MainThread\n",
      "Serial time= 10.011686086654663\n",
      "PID: 134059, Process Name: MainProcess, Thread Name: Thread-8 (only_sleep)\n",
      "PID: 134059, Process Name: MainProcess, Thread Name: Thread-9 (only_sleep)\n",
      "PID: 134059, Process Name: MainProcess, Thread Name: Thread-10 (only_sleep)\n",
      "PID: 134059, Process Name: MainProcess, Thread Name: Thread-11 (only_sleep)\n",
      "PID: 134059, Process Name: MainProcess, Thread Name: Thread-12 (only_sleep)\n",
      "PID: 134059, Process Name: MainProcess, Thread Name: Thread-13 (only_sleep)\n",
      "PID: 134059, Process Name: MainProcess, Thread Name: Thread-14 (only_sleep)\n",
      "PID: 134059, Process Name: MainProcess, Thread Name: Thread-15 (only_sleep)\n",
      "PID: 134059, Process Name: MainProcess, Thread Name: Thread-16 (only_sleep)\n",
      "PID: 134059, Process Name: MainProcess, Thread Name: Thread-17 (only_sleep)\n",
      "Threads time= 1.0032031536102295\n",
      "PID: 134059, Process Name: MainProcess, Thread Name: MainThread\n",
      "PID: 134059, Process Name: MainProcess, Thread Name: MainThread\n",
      "PID: 134059, Process Name: MainProcess, Thread Name: MainThread\n",
      "PID: 134059, Process Name: MainProcess, Thread Name: MainThread\n",
      "PID: 134059, Process Name: MainProcess, Thread Name: MainThread\n",
      "PID: 134059, Process Name: MainProcess, Thread Name: MainThread\n",
      "PID: 134059, Process Name: MainProcess, Thread Name: MainThread\n",
      "PID: 134059, Process Name: MainProcess, Thread Name: MainThread\n",
      "PID: 134059, Process Name: MainProcess, Thread Name: MainThread\n",
      "PID: 134059, Process Name: MainProcess, Thread Name: MainThread\n",
      "Parallel time= 10.103132963180542\n"
     ]
    }
   ],
   "source": [
    "## Run tasks serially \n",
    "start_time = time.time()\n",
    "for _ in range(NUM_WORKERS):\n",
    "    only_sleep()\n",
    "end_time = time.time()\n",
    "print(\"Serial time=\", end_time - start_time)\n",
    "# Run tasks using threads \n",
    "start_time = time.time()\n",
    "threads = [threading.Thread(target=only_sleep) for _ in range(NUM_WORKERS)]\n",
    "[thread.start() for thread in threads]\n",
    "[thread.join() for thread in threads]\n",
    "end_time = time.time()\n",
    "print(\"Threads time=\", end_time - start_time)\n",
    "# Run tasks using processes \n",
    "start_time = time.time()\n",
    "processes = [multiprocessing.Process(target=only_sleep()) for _ in range(NUM_WORKERS)]\n",
    "[process.start() for process in processes]\n",
    "[process.join() for process in processes]\n",
    "end_time = time.time()\n",
    "print(\"Parallel time=\", end_time - start_time)"
   ]
  }
 ],
 "metadata": {
  "kernelspec": {
   "display_name": "py310",
   "language": "python",
   "name": "python3"
  },
  "language_info": {
   "codemirror_mode": {
    "name": "ipython",
    "version": 3
   },
   "file_extension": ".py",
   "mimetype": "text/x-python",
   "name": "python",
   "nbconvert_exporter": "python",
   "pygments_lexer": "ipython3",
   "version": "3.10.6"
  },
  "orig_nbformat": 4,
  "vscode": {
   "interpreter": {
    "hash": "819112c24f0d6b36d35f6c5653e120a0c93a25f82bf2809eaf9b65613f02e80c"
   }
  }
 },
 "nbformat": 4,
 "nbformat_minor": 2
}
