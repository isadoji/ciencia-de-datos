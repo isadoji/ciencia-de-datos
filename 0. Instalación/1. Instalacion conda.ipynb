{
 "cells": [
  {
   "attachments": {},
   "cell_type": "markdown",
   "metadata": {},
   "source": [
    "# CONDA\n",
    "\n",
    "Es un gestor de paquetes que permite listar, instalar y desinstalar en un entorno de Python. \n",
    "\n",
    "Se puede acceder a ella en:\n",
    "\n",
    "**Windows:** en la barra de aplicaciones de windows buscar el término Anaconda Prompt y ejecutar la aplicación.\n",
    "\n",
    "**MacOS y Linux:** hay que abrir una consola de comandos del sistema."
   ]
  },
  {
   "attachments": {},
   "cell_type": "markdown",
   "metadata": {},
   "source": [
    "# MINICONDA\n",
    "\n",
    "Instalación minima de conda\n",
    "\n",
    "https://docs.conda.io/en/latest/miniconda.html\n",
    "\n",
    "Descargar el instalador de miniconda: \n",
    "\n",
    "~~~\n",
    "$ wget https://repo.anaconda.com/miniconda/Miniconda3-py39_4.\\12.0-Linux-x86_64.sh\n",
    "\n",
    "$ bash Miniconda3-py39_4.12.0-Linux-x86_64.sh\n",
    "\n",
    "$ instalacion en:/home/isadoji/Storage/Software/miniconda3\n",
    "~~~"
   ]
  },
  {
   "attachments": {},
   "cell_type": "markdown",
   "metadata": {},
   "source": [
    "El ambiente instalado se llama **base** y cuando esta activo, aparece entre parentesis al inicio de la linea de comando\n",
    "\n",
    "~~~\n",
    "(base) isadoji@doramilaje:\n",
    "~~~"
   ]
  },
  {
   "attachments": {},
   "cell_type": "markdown",
   "metadata": {},
   "source": [
    "# CONDA CHEAT SHEET\n",
    "\n",
    "https://docs.conda.io/projects/conda/en/4.6.0/_downloads/52a95608c49671267e40c689e0bc00ca/conda-cheatsheet.pdf\n",
    "\n",
    "~~~\n",
    "$ conda --version\n",
    "\n",
    "conda 22.11.1\n",
    "~~~"
   ]
  },
  {
   "attachments": {},
   "cell_type": "markdown",
   "metadata": {},
   "source": [
    "# conda-forge\n",
    "\n",
    "Repositorio de git-hub con paquetes de conda\n",
    "\n",
    "~~~\n",
    "$ conda config --add channels conda-forge\n",
    "\n",
    "$ conda update --all\n",
    "~~~\n"
   ]
  },
  {
   "attachments": {},
   "cell_type": "markdown",
   "metadata": {},
   "source": [
    "# Ambientes de trabajo\n",
    "\n",
    "Se pueden crear o instalar otros ambientes con otras versiones de python o con paquetes especificos para cada proyecto. \n",
    "\n",
    "\n",
    "~~~\n",
    "$ conda env list\n",
    "\n",
    "base                     /home/isadoji/Storage/Software/miniconda3\n",
    "~~~\n",
    "\n",
    "Por ejemplo: Crear un ambiente con la versión 3.10 de python:\n",
    "\n",
    "~~~\n",
    "$ conda create -n py310 python:3.10\n",
    "\n",
    "Collecting package metadata (current_repodata.json): done\n",
    "Solving environment: done\n",
    "## Package Plan ##\n",
    "environment location: /home/isadoji/Storage/Software/miniconda3/envs/py310\n",
    "Proceed ([y]/n)? y\n",
    "Preparing transaction: done\n",
    "Verifying transaction: done\n",
    "Executing transaction: done\n",
    "#\n",
    "# To activate this environment, use\n",
    "#\n",
    "#     $ conda activate py310\n",
    "#\n",
    "# To deactivate an active environment, use\n",
    "#\n",
    "#     $ conda deactivate\n",
    "\n",
    "Retrieving notices: ...working... done"
   ]
  },
  {
   "attachments": {},
   "cell_type": "markdown",
   "metadata": {},
   "source": [
    "Para eliminar un entorno de conda tenemos que desactivarlo primero si es que estamos dentro:\n",
    "\n",
    "~~~\n",
    "$ conda deactivate\n",
    "~~~\n",
    "\n",
    "y luego lo eliminamos con:\n",
    "\n",
    "~~~\n",
    "$ conda remove --name py310 --all\n",
    "~~~\n"
   ]
  },
  {
   "attachments": {},
   "cell_type": "markdown",
   "metadata": {},
   "source": [
    "# Instalar paquetes en py3.10\n",
    "\n",
    "~~~\n",
    "$ conda list  # ver lista de paquetes ya instalados\n",
    "$ conda search panda #buscar alguno en especial\n",
    "$ conda install pandas numpy matplotlib seaborn scikit-learn\n",
    "~~~\n",
    "\n",
    "o se puden installar con el archivo  requirements.txt\n",
    "\n",
    "matplotlib>=2.2\n",
    "\n",
    "numpy>=1.15.0, <1.21.0\n",
    "\n",
    "pandas\n",
    "\n",
    "pytest==4.0.1\n",
    "\n",
    "~~~\n",
    "$ conda install --file requirements.txt\n",
    "~~~\n",
    "\n",
    "Se pueden exportar las dependecias den entorno en formato yml\n",
    "\n",
    "~~~\n",
    "$ conda env export > environment.yml\n",
    "~~~\n",
    "\n",
    "y crear otro ambiente con las mismas dependencias\n",
    "\n",
    "~~~\n",
    "$ conda env create -n prueba -f environment.yml\n",
    "~~~\n",
    "\n",
    "o clonar a otro entorno\n",
    "\n",
    "~~~\n",
    "$ conda -n prueba --clone py310 \n",
    "~~~\n",
    "\n",
    "\n",
    "\n"
   ]
  }
 ],
 "metadata": {
  "kernelspec": {
   "display_name": "Python 3.10.6 ('py310')",
   "language": "python",
   "name": "python3"
  },
  "language_info": {
   "codemirror_mode": {
    "name": "ipython",
    "version": 3
   },
   "file_extension": ".py",
   "mimetype": "text/x-python",
   "name": "python",
   "nbconvert_exporter": "python",
   "pygments_lexer": "ipython3",
   "version": "3.10.6 | packaged by conda-forge | (main, Aug 22 2022, 20:35:26) [GCC 10.4.0]"
  },
  "orig_nbformat": 4,
  "vscode": {
   "interpreter": {
    "hash": "819112c24f0d6b36d35f6c5653e120a0c93a25f82bf2809eaf9b65613f02e80c"
   }
  }
 },
 "nbformat": 4,
 "nbformat_minor": 2
}
