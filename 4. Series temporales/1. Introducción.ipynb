{
 "cells": [
  {
   "cell_type": "markdown",
   "metadata": {},
   "source": [
    "# Análisis de series temporales\n",
    "\n",
    "1. Introducción \n",
    "2. Métodos clásicos: \n",
    "    1. smoothing ETS\n",
    "    2. ARIMA\n",
    "    3. VARMA\n",
    "3. Métodos con Machine learning\n",
    "4. Métodos con Deeap learning\n",
    "\n",
    "Curso: https://deeplearningcourses.com/c/time-series-analysis"
   ]
  },
  {
   "cell_type": "markdown",
   "metadata": {},
   "source": [
    "Qués es una serie temporal?\n",
    "que transformaciones son importantes para analizar series temporales?\n",
    "Cómo evaluar una predicciones?\n",
    "Cuáies son las métrica utilizada?\n",
    "\n",
    "Series temporales en finanzas: Precios y rendimientos logarítmicos, hipótesis aleatoria\n",
    "\n"
   ]
  }
 ],
 "metadata": {
  "kernelspec": {
   "display_name": "Python 3.10.6 ('py310')",
   "language": "python",
   "name": "python3"
  },
  "language_info": {
   "codemirror_mode": {
    "name": "ipython",
    "version": 3
   },
   "file_extension": ".py",
   "mimetype": "text/x-python",
   "name": "python",
   "nbconvert_exporter": "python",
   "pygments_lexer": "ipython3",
   "version": "3.10.6"
  },
  "vscode": {
   "interpreter": {
    "hash": "819112c24f0d6b36d35f6c5653e120a0c93a25f82bf2809eaf9b65613f02e80c"
   }
  }
 },
 "nbformat": 4,
 "nbformat_minor": 2
}
